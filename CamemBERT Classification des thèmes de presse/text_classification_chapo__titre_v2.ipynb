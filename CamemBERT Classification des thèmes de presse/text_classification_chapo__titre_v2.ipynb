{
 "cells": [
  {
   "cell_type": "code",
   "execution_count": 2,
   "metadata": {
    "colab": {
     "base_uri": "https://localhost:8080/"
    },
    "id": "bNS0ecn-cLBJ",
    "outputId": "fc587aee-0ee6-4d8a-aeb4-6fb5d5fe025f"
   },
   "outputs": [
    {
     "name": "stdout",
     "output_type": "stream",
     "text": [
      "Collecting transformers==2.8.0\n",
      "  Downloading transformers-2.8.0-py3-none-any.whl (563 kB)\n",
      "\u001b[K     |████████████████████████████████| 563 kB 5.4 MB/s \n",
      "\u001b[?25hRequirement already satisfied: filelock in /usr/local/lib/python3.7/dist-packages (from transformers==2.8.0) (3.4.0)\n",
      "Collecting sacremoses\n",
      "  Downloading sacremoses-0.0.46-py3-none-any.whl (895 kB)\n",
      "\u001b[K     |████████████████████████████████| 895 kB 51.5 MB/s \n",
      "\u001b[?25hCollecting tokenizers==0.5.2\n",
      "  Downloading tokenizers-0.5.2-cp37-cp37m-manylinux1_x86_64.whl (5.6 MB)\n",
      "\u001b[K     |████████████████████████████████| 5.6 MB 22.5 MB/s \n",
      "\u001b[?25hRequirement already satisfied: requests in /usr/local/lib/python3.7/dist-packages (from transformers==2.8.0) (2.23.0)\n",
      "Collecting sentencepiece\n",
      "  Downloading sentencepiece-0.1.96-cp37-cp37m-manylinux_2_17_x86_64.manylinux2014_x86_64.whl (1.2 MB)\n",
      "\u001b[K     |████████████████████████████████| 1.2 MB 50.4 MB/s \n",
      "\u001b[?25hRequirement already satisfied: regex!=2019.12.17 in /usr/local/lib/python3.7/dist-packages (from transformers==2.8.0) (2019.12.20)\n",
      "Requirement already satisfied: tqdm>=4.27 in /usr/local/lib/python3.7/dist-packages (from transformers==2.8.0) (4.62.3)\n",
      "Collecting boto3\n",
      "  Downloading boto3-1.20.30-py3-none-any.whl (131 kB)\n",
      "\u001b[K     |████████████████████████████████| 131 kB 43.8 MB/s \n",
      "\u001b[?25hRequirement already satisfied: numpy in /usr/local/lib/python3.7/dist-packages (from transformers==2.8.0) (1.19.5)\n",
      "Collecting jmespath<1.0.0,>=0.7.1\n",
      "  Downloading jmespath-0.10.0-py2.py3-none-any.whl (24 kB)\n",
      "Collecting botocore<1.24.0,>=1.23.30\n",
      "  Downloading botocore-1.23.30-py3-none-any.whl (8.5 MB)\n",
      "\u001b[K     |████████████████████████████████| 8.5 MB 53.2 MB/s \n",
      "\u001b[?25hCollecting s3transfer<0.6.0,>=0.5.0\n",
      "  Downloading s3transfer-0.5.0-py3-none-any.whl (79 kB)\n",
      "\u001b[K     |████████████████████████████████| 79 kB 6.2 MB/s \n",
      "\u001b[?25hRequirement already satisfied: python-dateutil<3.0.0,>=2.1 in /usr/local/lib/python3.7/dist-packages (from botocore<1.24.0,>=1.23.30->boto3->transformers==2.8.0) (2.8.2)\n",
      "Collecting urllib3<1.27,>=1.25.4\n",
      "  Downloading urllib3-1.26.8-py2.py3-none-any.whl (138 kB)\n",
      "\u001b[K     |████████████████████████████████| 138 kB 52.8 MB/s \n",
      "\u001b[?25hRequirement already satisfied: six>=1.5 in /usr/local/lib/python3.7/dist-packages (from python-dateutil<3.0.0,>=2.1->botocore<1.24.0,>=1.23.30->boto3->transformers==2.8.0) (1.15.0)\n",
      "Requirement already satisfied: certifi>=2017.4.17 in /usr/local/lib/python3.7/dist-packages (from requests->transformers==2.8.0) (2021.10.8)\n",
      "  Downloading urllib3-1.25.11-py2.py3-none-any.whl (127 kB)\n",
      "\u001b[K     |████████████████████████████████| 127 kB 73.3 MB/s \n",
      "\u001b[?25hRequirement already satisfied: idna<3,>=2.5 in /usr/local/lib/python3.7/dist-packages (from requests->transformers==2.8.0) (2.10)\n",
      "Requirement already satisfied: chardet<4,>=3.0.2 in /usr/local/lib/python3.7/dist-packages (from requests->transformers==2.8.0) (3.0.4)\n",
      "Requirement already satisfied: joblib in /usr/local/lib/python3.7/dist-packages (from sacremoses->transformers==2.8.0) (1.1.0)\n",
      "Requirement already satisfied: click in /usr/local/lib/python3.7/dist-packages (from sacremoses->transformers==2.8.0) (7.1.2)\n",
      "Installing collected packages: urllib3, jmespath, botocore, s3transfer, tokenizers, sentencepiece, sacremoses, boto3, transformers\n",
      "  Attempting uninstall: urllib3\n",
      "    Found existing installation: urllib3 1.24.3\n",
      "    Uninstalling urllib3-1.24.3:\n",
      "      Successfully uninstalled urllib3-1.24.3\n",
      "\u001b[31mERROR: pip's dependency resolver does not currently take into account all the packages that are installed. This behaviour is the source of the following dependency conflicts.\n",
      "datascience 0.10.6 requires folium==0.2.1, but you have folium 0.8.3 which is incompatible.\u001b[0m\n",
      "Successfully installed boto3-1.20.30 botocore-1.23.30 jmespath-0.10.0 s3transfer-0.5.0 sacremoses-0.0.46 sentencepiece-0.1.96 tokenizers-0.5.2 transformers-2.8.0 urllib3-1.25.11\n"
     ]
    }
   ],
   "source": [
    "!pip install transformers==2.8.0"
   ]
  },
  {
   "cell_type": "code",
   "execution_count": 3,
   "metadata": {
    "id": "DKTsS8qmHKM0"
   },
   "outputs": [],
   "source": [
    "import os\n",
    "import json\n",
    "import time\n",
    "import torch\n",
    "import datetime\n",
    "import numpy as np\n",
    "import pandas as pd\n",
    "import matplotlib.pyplot as plt\n",
    "from sklearn import metrics\n",
    "from torch.utils.data import TensorDataset, random_split, \\\n",
    "                            DataLoader, RandomSampler, SequentialSampler\n",
    "from transformers import CamembertForSequenceClassification, CamembertTokenizer, \\\n",
    "                         AdamW, get_linear_schedule_with_warmup\n",
    "\n",
    "# Functions : preprocess() (create dataloaders from raw data) \n",
    "# load_models() (load tokenizers and models) training() (loop of one training step) evaluate()"
   ]
  },
  {
   "cell_type": "code",
   "execution_count": 4,
   "metadata": {
    "colab": {
     "base_uri": "https://localhost:8080/"
    },
    "id": "-PMDkLnoxgqa",
    "outputId": "40650f1a-0d87-4635-dfd4-132b81a0f191"
   },
   "outputs": [
    {
     "name": "stdout",
     "output_type": "stream",
     "text": [
      "Mounted at /content/gdrive\n"
     ]
    }
   ],
   "source": [
    "from google.colab import drive\n",
    "drive.mount('/content/gdrive')"
   ]
  },
  {
   "cell_type": "code",
   "execution_count": 5,
   "metadata": {
    "colab": {
     "base_uri": "https://localhost:8080/",
     "height": 206
    },
    "id": "lvPWbsrRa9nJ",
    "outputId": "b7cb0362-ab6e-4c95-da40-869ca2234ee9"
   },
   "outputs": [
    {
     "data": {
      "text/html": [
       "\n",
       "  <div id=\"df-53e50698-2b3c-4a8a-a1ad-bf298bff825d\">\n",
       "    <div class=\"colab-df-container\">\n",
       "      <div>\n",
       "<style scoped>\n",
       "    .dataframe tbody tr th:only-of-type {\n",
       "        vertical-align: middle;\n",
       "    }\n",
       "\n",
       "    .dataframe tbody tr th {\n",
       "        vertical-align: top;\n",
       "    }\n",
       "\n",
       "    .dataframe thead th {\n",
       "        text-align: right;\n",
       "    }\n",
       "</style>\n",
       "<table border=\"1\" class=\"dataframe\">\n",
       "  <thead>\n",
       "    <tr style=\"text-align: right;\">\n",
       "      <th></th>\n",
       "      <th>url</th>\n",
       "      <th>titre</th>\n",
       "      <th>chapo</th>\n",
       "      <th>categorie</th>\n",
       "      <th>date</th>\n",
       "    </tr>\n",
       "  </thead>\n",
       "  <tbody>\n",
       "    <tr>\n",
       "      <th>0</th>\n",
       "      <td>https://www.lemonde.fr/europe/article/2015/01/...</td>\n",
       "      <td>La marine italienne prend le contrôle d'un bat...</td>\n",
       "      <td>Le navire a été abandonné par son équipage alo...</td>\n",
       "      <td>europe</td>\n",
       "      <td>01-01-2015</td>\n",
       "    </tr>\n",
       "    <tr>\n",
       "      <th>1</th>\n",
       "      <td>https://www.lemonde.fr/football/article/2015/0...</td>\n",
       "      <td>Foot anglais : Chelsea explose et se fait rejo...</td>\n",
       "      <td>Après l'explosion en vol des Blues à Tottenham...</td>\n",
       "      <td>football</td>\n",
       "      <td>01-01-2015</td>\n",
       "    </tr>\n",
       "    <tr>\n",
       "      <th>2</th>\n",
       "      <td>https://www.lemonde.fr/asie-pacifique/article/...</td>\n",
       "      <td>La Corée du Nord ouvre timidement son économie</td>\n",
       "      <td>La dictature asiatique tente de sortir de son ...</td>\n",
       "      <td>asie-pacifique</td>\n",
       "      <td>01-01-2015</td>\n",
       "    </tr>\n",
       "    <tr>\n",
       "      <th>3</th>\n",
       "      <td>https://www.lemonde.fr/economie/article/2015/0...</td>\n",
       "      <td>L’Etat paie au prix fort son revirement sur l’...</td>\n",
       "      <td>L’abandon de ce dispositif, déjà installé, de ...</td>\n",
       "      <td>economie</td>\n",
       "      <td>01-01-2015</td>\n",
       "    </tr>\n",
       "    <tr>\n",
       "      <th>4</th>\n",
       "      <td>https://www.lemonde.fr/europe/article/2015/01/...</td>\n",
       "      <td>Suède : une troisième mosquée attaquée en huit...</td>\n",
       "      <td>Le premier ministre suédois a affirmé que le g...</td>\n",
       "      <td>europe</td>\n",
       "      <td>01-01-2015</td>\n",
       "    </tr>\n",
       "  </tbody>\n",
       "</table>\n",
       "</div>\n",
       "      <button class=\"colab-df-convert\" onclick=\"convertToInteractive('df-53e50698-2b3c-4a8a-a1ad-bf298bff825d')\"\n",
       "              title=\"Convert this dataframe to an interactive table.\"\n",
       "              style=\"display:none;\">\n",
       "        \n",
       "  <svg xmlns=\"http://www.w3.org/2000/svg\" height=\"24px\"viewBox=\"0 0 24 24\"\n",
       "       width=\"24px\">\n",
       "    <path d=\"M0 0h24v24H0V0z\" fill=\"none\"/>\n",
       "    <path d=\"M18.56 5.44l.94 2.06.94-2.06 2.06-.94-2.06-.94-.94-2.06-.94 2.06-2.06.94zm-11 1L8.5 8.5l.94-2.06 2.06-.94-2.06-.94L8.5 2.5l-.94 2.06-2.06.94zm10 10l.94 2.06.94-2.06 2.06-.94-2.06-.94-.94-2.06-.94 2.06-2.06.94z\"/><path d=\"M17.41 7.96l-1.37-1.37c-.4-.4-.92-.59-1.43-.59-.52 0-1.04.2-1.43.59L10.3 9.45l-7.72 7.72c-.78.78-.78 2.05 0 2.83L4 21.41c.39.39.9.59 1.41.59.51 0 1.02-.2 1.41-.59l7.78-7.78 2.81-2.81c.8-.78.8-2.07 0-2.86zM5.41 20L4 18.59l7.72-7.72 1.47 1.35L5.41 20z\"/>\n",
       "  </svg>\n",
       "      </button>\n",
       "      \n",
       "  <style>\n",
       "    .colab-df-container {\n",
       "      display:flex;\n",
       "      flex-wrap:wrap;\n",
       "      gap: 12px;\n",
       "    }\n",
       "\n",
       "    .colab-df-convert {\n",
       "      background-color: #E8F0FE;\n",
       "      border: none;\n",
       "      border-radius: 50%;\n",
       "      cursor: pointer;\n",
       "      display: none;\n",
       "      fill: #1967D2;\n",
       "      height: 32px;\n",
       "      padding: 0 0 0 0;\n",
       "      width: 32px;\n",
       "    }\n",
       "\n",
       "    .colab-df-convert:hover {\n",
       "      background-color: #E2EBFA;\n",
       "      box-shadow: 0px 1px 2px rgba(60, 64, 67, 0.3), 0px 1px 3px 1px rgba(60, 64, 67, 0.15);\n",
       "      fill: #174EA6;\n",
       "    }\n",
       "\n",
       "    [theme=dark] .colab-df-convert {\n",
       "      background-color: #3B4455;\n",
       "      fill: #D2E3FC;\n",
       "    }\n",
       "\n",
       "    [theme=dark] .colab-df-convert:hover {\n",
       "      background-color: #434B5C;\n",
       "      box-shadow: 0px 1px 3px 1px rgba(0, 0, 0, 0.15);\n",
       "      filter: drop-shadow(0px 1px 2px rgba(0, 0, 0, 0.3));\n",
       "      fill: #FFFFFF;\n",
       "    }\n",
       "  </style>\n",
       "\n",
       "      <script>\n",
       "        const buttonEl =\n",
       "          document.querySelector('#df-53e50698-2b3c-4a8a-a1ad-bf298bff825d button.colab-df-convert');\n",
       "        buttonEl.style.display =\n",
       "          google.colab.kernel.accessAllowed ? 'block' : 'none';\n",
       "\n",
       "        async function convertToInteractive(key) {\n",
       "          const element = document.querySelector('#df-53e50698-2b3c-4a8a-a1ad-bf298bff825d');\n",
       "          const dataTable =\n",
       "            await google.colab.kernel.invokeFunction('convertToInteractive',\n",
       "                                                     [key], {});\n",
       "          if (!dataTable) return;\n",
       "\n",
       "          const docLinkHtml = 'Like what you see? Visit the ' +\n",
       "            '<a target=\"_blank\" href=https://colab.research.google.com/notebooks/data_table.ipynb>data table notebook</a>'\n",
       "            + ' to learn more about interactive tables.';\n",
       "          element.innerHTML = '';\n",
       "          dataTable['output_type'] = 'display_data';\n",
       "          await google.colab.output.renderOutput(dataTable, element);\n",
       "          const docLink = document.createElement('div');\n",
       "          docLink.innerHTML = docLinkHtml;\n",
       "          element.appendChild(docLink);\n",
       "        }\n",
       "      </script>\n",
       "    </div>\n",
       "  </div>\n",
       "  "
      ],
      "text/plain": [
       "                                                 url  ...        date\n",
       "0  https://www.lemonde.fr/europe/article/2015/01/...  ...  01-01-2015\n",
       "1  https://www.lemonde.fr/football/article/2015/0...  ...  01-01-2015\n",
       "2  https://www.lemonde.fr/asie-pacifique/article/...  ...  01-01-2015\n",
       "3  https://www.lemonde.fr/economie/article/2015/0...  ...  01-01-2015\n",
       "4  https://www.lemonde.fr/europe/article/2015/01/...  ...  01-01-2015\n",
       "\n",
       "[5 rows x 5 columns]"
      ]
     },
     "execution_count": 5,
     "metadata": {},
     "output_type": "execute_result"
    }
   ],
   "source": [
    "dataset = pd.read_csv(\"\"\"/content/gdrive/My Drive/lemonde.csv\"\"\",sep=\";\")\n",
    "dataset.head()\n",
    "#dataset=dataset.sample(n=10000)"
   ]
  },
  {
   "cell_type": "code",
   "execution_count": 6,
   "metadata": {
    "colab": {
     "base_uri": "https://localhost:8080/"
    },
    "id": "J83LxUOBvo48",
    "outputId": "0368b5f7-736d-4df7-b7a8-a54e422b2b3e"
   },
   "outputs": [
    {
     "data": {
      "text/plain": [
       "131305"
      ]
     },
     "execution_count": 6,
     "metadata": {},
     "output_type": "execute_result"
    }
   ],
   "source": [
    "len(dataset)"
   ]
  },
  {
   "cell_type": "code",
   "execution_count": 7,
   "metadata": {
    "id": "RgTfJa4ytbXs"
   },
   "outputs": [],
   "source": [
    "#Categories selection\n",
    "dataset.loc[(dataset.categorie== 'ameriques')|(dataset.categorie==\"europe\" )|(dataset.categorie==  'international')|(dataset.categorie=='afrique')|(dataset.categorie== 'asie-pacifique')| (dataset.categorie== 'proche-orient'),\"categorie\"]=\"international\"\n",
    "dataset.loc[(dataset.categorie==\"arts\")|(dataset.categorie=='festival')|(dataset.categorie=='musiques')|(dataset.categorie=='cinema')|(dataset.categorie=='televisions-radio')|(dataset.categorie=='culture')|(dataset.categorie=='livres'),\"categorie\"]=\"culture\"\n",
    "dataset.loc[(dataset.categorie==\"entreprises\")|(dataset.categorie==\"economie\")|(dataset.categorie==\"argent\")|(dataset.categorie==\"emploi\"),\"categorie\"]=\"economie\"\n",
    "#dataset.loc[(dataset.categorie==\"football\")|(dataset.categorie==\"sport\"),\"categorie\"]=\"sport\"\n",
    "#dataset.loc[(dataset.categorie==\"sciences\")|(dataset.categorie==\"sante\"),\"categorie\"]=\"santé/science\"\n",
    "dataset.loc[(dataset.categorie==\"police-justice\")|(dataset.categorie==\"idees\")|(dataset.categorie==\"societe\")|(dataset.categorie==\"politique\"),\"categorie\"]=\"politique/société\"\n",
    "dataset.loc[(dataset.categorie==\"planete\")|(dataset.categorie==\"pixels\"),\"categorie\"]=\"numérique/environnement\""
   ]
  },
  {
   "cell_type": "code",
   "execution_count": 8,
   "metadata": {
    "id": "KLqSHuO4tbXs"
   },
   "outputs": [],
   "source": [
    "dataset = dataset[dataset.categorie.isin([\"international\",\"culture\",\"economie\",\n",
    "                                         \"numérique/environnement\",\"politique/société\"])]\n",
    "dataset.reset_index(drop=True,inplace=True)\n",
    "dataset.categorie = dataset.categorie.map({\"international\":0,\"culture\":1,\"economie\":2,\n",
    "                                         \"numérique/environnement\":3,\"politique/société\":4})"
   ]
  },
  {
   "cell_type": "code",
   "execution_count": 9,
   "metadata": {
    "colab": {
     "base_uri": "https://localhost:8080/"
    },
    "id": "Omv7SC4HtbXt",
    "outputId": "e6a3c842-481f-4bd8-d2c5-368476f143e9"
   },
   "outputs": [
    {
     "data": {
      "text/plain": [
       "0    33558\n",
       "4    26791\n",
       "2    15361\n",
       "1    14191\n",
       "3    10253\n",
       "Name: categorie, dtype: int64"
      ]
     },
     "execution_count": 9,
     "metadata": {},
     "output_type": "execute_result"
    }
   ],
   "source": [
    "dataset.categorie.value_counts()"
   ]
  },
  {
   "cell_type": "markdown",
   "metadata": {
    "id": "74CJ0y7StbXt"
   },
   "source": [
    "### Manual undersampling"
   ]
  },
  {
   "cell_type": "code",
   "execution_count": 10,
   "metadata": {
    "id": "qpB6TXxatbXv"
   },
   "outputs": [],
   "source": [
    "d1 = dataset[dataset[\"categorie\"]==0].sample(n=1000,random_state=42)\n",
    "d2 = dataset[dataset[\"categorie\"]==1].sample(n=1000,random_state=42)\n",
    "d3 = dataset[dataset[\"categorie\"]==2].sample(n=1000,random_state=42)\n",
    "d4 = dataset[dataset[\"categorie\"]==3].sample(n=1000,random_state=42)\n",
    "d5 = dataset[dataset[\"categorie\"]==4].sample(n=1000,random_state=42)\n",
    "\n",
    "dataset = pd.concat([d1,d2,d3,d4,d5])\n"
   ]
  },
  {
   "cell_type": "code",
   "execution_count": 11,
   "metadata": {
    "colab": {
     "base_uri": "https://localhost:8080/"
    },
    "id": "axNTBsANtbXw",
    "outputId": "233a2fe0-1ce4-493b-e03c-6d5e3527bad0"
   },
   "outputs": [
    {
     "data": {
      "text/plain": [
       "3    1000\n",
       "2    1000\n",
       "1    1000\n",
       "4    1000\n",
       "0    1000\n",
       "Name: categorie, dtype: int64"
      ]
     },
     "execution_count": 11,
     "metadata": {},
     "output_type": "execute_result"
    }
   ],
   "source": [
    "dataset.categorie.value_counts()"
   ]
  },
  {
   "cell_type": "code",
   "execution_count": 12,
   "metadata": {
    "colab": {
     "base_uri": "https://localhost:8080/",
     "height": 206
    },
    "id": "eR23n9qY9-de",
    "outputId": "65686057-9f91-4331-85cf-2125392df5eb"
   },
   "outputs": [
    {
     "data": {
      "text/html": [
       "\n",
       "  <div id=\"df-db0b8772-ea76-41b4-a2d1-81da130e943b\">\n",
       "    <div class=\"colab-df-container\">\n",
       "      <div>\n",
       "<style scoped>\n",
       "    .dataframe tbody tr th:only-of-type {\n",
       "        vertical-align: middle;\n",
       "    }\n",
       "\n",
       "    .dataframe tbody tr th {\n",
       "        vertical-align: top;\n",
       "    }\n",
       "\n",
       "    .dataframe thead th {\n",
       "        text-align: right;\n",
       "    }\n",
       "</style>\n",
       "<table border=\"1\" class=\"dataframe\">\n",
       "  <thead>\n",
       "    <tr style=\"text-align: right;\">\n",
       "      <th></th>\n",
       "      <th>url</th>\n",
       "      <th>titre</th>\n",
       "      <th>chapo</th>\n",
       "      <th>categorie</th>\n",
       "      <th>date</th>\n",
       "    </tr>\n",
       "  </thead>\n",
       "  <tbody>\n",
       "    <tr>\n",
       "      <th>0</th>\n",
       "      <td>https://www.lemonde.fr/culture/article/2019/12...</td>\n",
       "      <td>Milan Kundera, la nostalgie de Prague</td>\n",
       "      <td>Kundera, le roman d’une vie (6/6). « La France...</td>\n",
       "      <td>1</td>\n",
       "      <td>21-12-2019</td>\n",
       "    </tr>\n",
       "    <tr>\n",
       "      <th>1</th>\n",
       "      <td>https://www.lemonde.fr/argent/article/2018/08/...</td>\n",
       "      <td>Sur la Côte d’Azur, des galeries hors des sent...</td>\n",
       "      <td>Les galeries Chave, à Vence, et Catherine Isse...</td>\n",
       "      <td>2</td>\n",
       "      <td>12-08-2018</td>\n",
       "    </tr>\n",
       "    <tr>\n",
       "      <th>2</th>\n",
       "      <td>https://www.lemonde.fr/economie/article/2020/0...</td>\n",
       "      <td>Le secteur parapétrolier, épine dans le pied d...</td>\n",
       "      <td>La banque publique d’investissement détient to...</td>\n",
       "      <td>2</td>\n",
       "      <td>24-07-2020</td>\n",
       "    </tr>\n",
       "    <tr>\n",
       "      <th>3</th>\n",
       "      <td>https://www.lemonde.fr/cinema/article/2016/01/...</td>\n",
       "      <td>« Koan de printemps » : passion asiatique et p...</td>\n",
       "      <td>Fable située dans le Vietnam ancestral, le pre...</td>\n",
       "      <td>1</td>\n",
       "      <td>24-01-2016</td>\n",
       "    </tr>\n",
       "    <tr>\n",
       "      <th>4</th>\n",
       "      <td>https://www.lemonde.fr/afrique/article/2020/02...</td>\n",
       "      <td>« Nous avons quelques semaines pour contrôler ...</td>\n",
       "      <td>Un expert de la FAO presse la communauté inter...</td>\n",
       "      <td>0</td>\n",
       "      <td>07-02-2020</td>\n",
       "    </tr>\n",
       "  </tbody>\n",
       "</table>\n",
       "</div>\n",
       "      <button class=\"colab-df-convert\" onclick=\"convertToInteractive('df-db0b8772-ea76-41b4-a2d1-81da130e943b')\"\n",
       "              title=\"Convert this dataframe to an interactive table.\"\n",
       "              style=\"display:none;\">\n",
       "        \n",
       "  <svg xmlns=\"http://www.w3.org/2000/svg\" height=\"24px\"viewBox=\"0 0 24 24\"\n",
       "       width=\"24px\">\n",
       "    <path d=\"M0 0h24v24H0V0z\" fill=\"none\"/>\n",
       "    <path d=\"M18.56 5.44l.94 2.06.94-2.06 2.06-.94-2.06-.94-.94-2.06-.94 2.06-2.06.94zm-11 1L8.5 8.5l.94-2.06 2.06-.94-2.06-.94L8.5 2.5l-.94 2.06-2.06.94zm10 10l.94 2.06.94-2.06 2.06-.94-2.06-.94-.94-2.06-.94 2.06-2.06.94z\"/><path d=\"M17.41 7.96l-1.37-1.37c-.4-.4-.92-.59-1.43-.59-.52 0-1.04.2-1.43.59L10.3 9.45l-7.72 7.72c-.78.78-.78 2.05 0 2.83L4 21.41c.39.39.9.59 1.41.59.51 0 1.02-.2 1.41-.59l7.78-7.78 2.81-2.81c.8-.78.8-2.07 0-2.86zM5.41 20L4 18.59l7.72-7.72 1.47 1.35L5.41 20z\"/>\n",
       "  </svg>\n",
       "      </button>\n",
       "      \n",
       "  <style>\n",
       "    .colab-df-container {\n",
       "      display:flex;\n",
       "      flex-wrap:wrap;\n",
       "      gap: 12px;\n",
       "    }\n",
       "\n",
       "    .colab-df-convert {\n",
       "      background-color: #E8F0FE;\n",
       "      border: none;\n",
       "      border-radius: 50%;\n",
       "      cursor: pointer;\n",
       "      display: none;\n",
       "      fill: #1967D2;\n",
       "      height: 32px;\n",
       "      padding: 0 0 0 0;\n",
       "      width: 32px;\n",
       "    }\n",
       "\n",
       "    .colab-df-convert:hover {\n",
       "      background-color: #E2EBFA;\n",
       "      box-shadow: 0px 1px 2px rgba(60, 64, 67, 0.3), 0px 1px 3px 1px rgba(60, 64, 67, 0.15);\n",
       "      fill: #174EA6;\n",
       "    }\n",
       "\n",
       "    [theme=dark] .colab-df-convert {\n",
       "      background-color: #3B4455;\n",
       "      fill: #D2E3FC;\n",
       "    }\n",
       "\n",
       "    [theme=dark] .colab-df-convert:hover {\n",
       "      background-color: #434B5C;\n",
       "      box-shadow: 0px 1px 3px 1px rgba(0, 0, 0, 0.15);\n",
       "      filter: drop-shadow(0px 1px 2px rgba(0, 0, 0, 0.3));\n",
       "      fill: #FFFFFF;\n",
       "    }\n",
       "  </style>\n",
       "\n",
       "      <script>\n",
       "        const buttonEl =\n",
       "          document.querySelector('#df-db0b8772-ea76-41b4-a2d1-81da130e943b button.colab-df-convert');\n",
       "        buttonEl.style.display =\n",
       "          google.colab.kernel.accessAllowed ? 'block' : 'none';\n",
       "\n",
       "        async function convertToInteractive(key) {\n",
       "          const element = document.querySelector('#df-db0b8772-ea76-41b4-a2d1-81da130e943b');\n",
       "          const dataTable =\n",
       "            await google.colab.kernel.invokeFunction('convertToInteractive',\n",
       "                                                     [key], {});\n",
       "          if (!dataTable) return;\n",
       "\n",
       "          const docLinkHtml = 'Like what you see? Visit the ' +\n",
       "            '<a target=\"_blank\" href=https://colab.research.google.com/notebooks/data_table.ipynb>data table notebook</a>'\n",
       "            + ' to learn more about interactive tables.';\n",
       "          element.innerHTML = '';\n",
       "          dataTable['output_type'] = 'display_data';\n",
       "          await google.colab.output.renderOutput(dataTable, element);\n",
       "          const docLink = document.createElement('div');\n",
       "          docLink.innerHTML = docLinkHtml;\n",
       "          element.appendChild(docLink);\n",
       "        }\n",
       "      </script>\n",
       "    </div>\n",
       "  </div>\n",
       "  "
      ],
      "text/plain": [
       "                                                 url  ...        date\n",
       "0  https://www.lemonde.fr/culture/article/2019/12...  ...  21-12-2019\n",
       "1  https://www.lemonde.fr/argent/article/2018/08/...  ...  12-08-2018\n",
       "2  https://www.lemonde.fr/economie/article/2020/0...  ...  24-07-2020\n",
       "3  https://www.lemonde.fr/cinema/article/2016/01/...  ...  24-01-2016\n",
       "4  https://www.lemonde.fr/afrique/article/2020/02...  ...  07-02-2020\n",
       "\n",
       "[5 rows x 5 columns]"
      ]
     },
     "execution_count": 12,
     "metadata": {},
     "output_type": "execute_result"
    }
   ],
   "source": [
    "dataset = dataset.sample(frac = 1,random_state=42)\n",
    "dataset.reset_index(drop=True,inplace=True)\n",
    "dataset.head()"
   ]
  },
  {
   "cell_type": "code",
   "execution_count": 13,
   "metadata": {
    "colab": {
     "base_uri": "https://localhost:8080/",
     "height": 49,
     "referenced_widgets": [
      "c4a5b5fcc63249a1b19aa1b75926d394",
      "c4922cd6fb6b48ef8e4c5315caa80f14",
      "88e4f232af9b4b7db613ede87dd30e1e",
      "39aed49975f948d895030e571df1ebfc",
      "8ecb2783a4724e9ca335db92d9990a37",
      "7d98ca125f3349beadeb0f836f23f47d",
      "fea1f94b51cb48449f6efef9f34d5886",
      "dcf498a43ae34a4ea0e0f5f559333905",
      "f6b7c838f7064079958c4f3297b1ea4e",
      "4aa958928ebb40adb171d1b6b569e71d",
      "b19286ccca9b45c696c6cfd84d7ff64b"
     ]
    },
    "id": "shklKqs4cCyT",
    "outputId": "bd59d9cd-23a8-4e18-97fd-89929f9963c7"
   },
   "outputs": [
    {
     "data": {
      "application/vnd.jupyter.widget-view+json": {
       "model_id": "c4a5b5fcc63249a1b19aa1b75926d394",
       "version_major": 2,
       "version_minor": 0
      },
      "text/plain": [
       "Downloading:   0%|          | 0.00/811k [00:00<?, ?B/s]"
      ]
     },
     "metadata": {},
     "output_type": "display_data"
    }
   ],
   "source": [
    "dataset[\"reviews\"] = dataset['chapo'] + dataset['titre']\n",
    "reviews = dataset[\"reviews\"].values.tolist()\n",
    "sentiments = dataset['categorie'].values.tolist()\n",
    "\n",
    "TOKENIZER = CamembertTokenizer.from_pretrained(\n",
    "    'camembert-base',\n",
    "    do_lower_case=True)"
   ]
  },
  {
   "cell_type": "code",
   "execution_count": 14,
   "metadata": {
    "id": "Sfs9Ot9N4jdz"
   },
   "outputs": [],
   "source": [
    "def preprocess(raw_reviews, sentiments=None):\n",
    "    \"\"\"\n",
    "    Cette fonction prends de la donnée brute en argument et retourne un 'dataloader' pytorch\n",
    "\n",
    "    Args\n",
    "        raw_reviews (array-like) : Une liste de reviews sous forme de 'str'\n",
    "        \n",
    "        sentiments : Une liste 'sentiments' (0 = negatif, 1 = positif) de la meme taille que\n",
    "                     'raw_review'\n",
    "    \n",
    "    Returns\n",
    "        inputs_ids, attention_masks, sentiments(optionel) : Objet  de PyTorch qui contient \n",
    "                    les versions tokenisees et encodees des donnees brutes\n",
    "    \"\"\"\n",
    "\n",
    "    \n",
    "    #device = torch.device(\"cpu\")\n",
    "\n",
    "    encoded_batch = TOKENIZER.batch_encode_plus(raw_reviews,\n",
    "                                                add_special_tokens=False,\n",
    "                                                pad_to_max_length=True,\n",
    "                                                return_attention_mask=True,\n",
    "                                                return_tensors = 'pt')\n",
    "    if sentiments:\n",
    "        sentiments = torch.tensor(sentiments)\n",
    "        return encoded_batch['input_ids'].to(device), encoded_batch['attention_mask'].to(device), sentiments.to(device)\n",
    "    return encoded_batch['input_ids'].to(device), encoded_batch['attention_mask'].to(device)"
   ]
  },
  {
   "cell_type": "code",
   "execution_count": 15,
   "metadata": {
    "id": "3f_0nGtNtbXy"
   },
   "outputs": [],
   "source": [
    "def preprocess(raw_reviews, sentiments=None):\n",
    "\n",
    "\n",
    "    \n",
    "\n",
    "    encoded_batch = TOKENIZER.batch_encode_plus(raw_reviews,\n",
    "                                                add_special_tokens=False,\n",
    "                                                pad_to_max_length=True,\n",
    "                                                return_attention_mask=True,\n",
    "                                                return_tensors = 'pt')\n",
    "    if sentiments:\n",
    "        sentiments = torch.tensor(sentiments)\n",
    "        return encoded_batch['input_ids'], encoded_batch['attention_mask'], sentiments\n",
    "    return encoded_batch['input_ids'], encoded_batch['attention_mask']"
   ]
  },
  {
   "cell_type": "code",
   "execution_count": 16,
   "metadata": {
    "id": "S-6WezGJpJu-"
   },
   "outputs": [],
   "source": [
    "# Split train-validation\n",
    "split_border = int(len(sentiments)*0.8)\n",
    "reviews_train, reviews_validation = reviews[:split_border], reviews[split_border:]\n",
    "sentiments_train, sentiments_validation = sentiments[:split_border], sentiments[split_border:]"
   ]
  },
  {
   "cell_type": "code",
   "execution_count": 17,
   "metadata": {
    "colab": {
     "base_uri": "https://localhost:8080/"
    },
    "id": "N2oH0awn-frf",
    "outputId": "cbceceae-e445-4dea-f5b2-c1f5e902ec5f"
   },
   "outputs": [
    {
     "data": {
      "text/plain": [
       "0    811\n",
       "1    809\n",
       "4    797\n",
       "3    796\n",
       "2    787\n",
       "Name: training_cat, dtype: int64"
      ]
     },
     "execution_count": 17,
     "metadata": {},
     "output_type": "execute_result"
    }
   ],
   "source": [
    "sampling_verif = pd.DataFrame({\"training_cat\":sentiments_train})\n",
    "sampling_verif.training_cat.value_counts()"
   ]
  },
  {
   "cell_type": "code",
   "execution_count": 18,
   "metadata": {
    "id": "V_Sm1dvCddc6"
   },
   "outputs": [],
   "source": [
    "input_ids, attention_mask, sentiments_train = preprocess(reviews_train, sentiments_train)\n",
    "\n",
    "# Combine the training inputs into a TensorDataset\n",
    "train_dataset = TensorDataset(\n",
    "    input_ids,\n",
    "    attention_mask,\n",
    "    sentiments_train)\n",
    "\n",
    "input_ids, attention_mask, sentiments_validation = preprocess(reviews_validation, sentiments_validation)\n",
    "\n",
    "# Combine the validation inputs into a TensorDataset\n",
    "validation_dataset = TensorDataset(\n",
    "    input_ids,\n",
    "    attention_mask,\n",
    "    sentiments_validation)"
   ]
  },
  {
   "cell_type": "code",
   "execution_count": 19,
   "metadata": {
    "id": "KaIdMxlirdFc"
   },
   "outputs": [],
   "source": [
    "# size of 16 or 32.\n",
    "batch_size = 32\n",
    "\n",
    "# Create the DataLoaders\n",
    "train_dataloader = DataLoader(\n",
    "            train_dataset,\n",
    "            sampler = RandomSampler(train_dataset),\n",
    "            batch_size = batch_size)\n",
    "\n",
    "validation_dataloader = DataLoader(\n",
    "            validation_dataset,\n",
    "            sampler = SequentialSampler(validation_dataset),\n",
    "            batch_size = batch_size)"
   ]
  },
  {
   "cell_type": "code",
   "execution_count": 20,
   "metadata": {
    "colab": {
     "base_uri": "https://localhost:8080/",
     "height": 116,
     "referenced_widgets": [
      "499cb38f71dc4545874823ee55fae73d",
      "e159d75d619444e994a42a73d09611d7",
      "ec2a192081b44b569286e501712beb35",
      "c441806aacc6440e83e64600f26e1c0c",
      "74ac34e924fc4ff780bb58f8846451ad",
      "2646327943e94e748d33e85f7d612a33",
      "3d8632ced3344c60ab1763cf492e87ee",
      "b3a01379ab90404d92b264adee1b5906",
      "662a101102e64459b4385704910f5d0f",
      "dd2e7fa9b83a4549a7b8e3b878385781",
      "20a34b8d5a4d48b894e10d7681dc8d96",
      "e347ed58c91a49e2abc77ea151efd2f3",
      "93941205452b408e8fb03282d99cc4e9",
      "dccb4ac5b84b45d1a2ff2bd857f2375b",
      "7711d6cef60344a08bda9ecbab36b5cb",
      "221318935b1d497f96f0620c62527eb9",
      "194f5aaa474841cfad56a8a16fc02eda",
      "5cb2ac8b1f5d4b7ea50773539db85938",
      "5efd54b725dc47399da88ad984d72a4c",
      "7b824393131e4f3d918be0fccddfb825",
      "6a16a20e505b44dd810e9d1e8dc09af7",
      "9ecf6ff5ec164435b5d08c422a1ac629"
     ]
    },
    "id": "jFsR2OSQu_1Q",
    "outputId": "add59516-82bc-4db7-8be1-819833c85e54"
   },
   "outputs": [
    {
     "name": "stdout",
     "output_type": "stream",
     "text": [
      "Loading trained model...\n"
     ]
    },
    {
     "data": {
      "application/vnd.jupyter.widget-view+json": {
       "model_id": "499cb38f71dc4545874823ee55fae73d",
       "version_major": 2,
       "version_minor": 0
      },
      "text/plain": [
       "Downloading:   0%|          | 0.00/508 [00:00<?, ?B/s]"
      ]
     },
     "metadata": {},
     "output_type": "display_data"
    },
    {
     "data": {
      "application/vnd.jupyter.widget-view+json": {
       "model_id": "e347ed58c91a49e2abc77ea151efd2f3",
       "version_major": 2,
       "version_minor": 0
      },
      "text/plain": [
       "Downloading:   0%|          | 0.00/445M [00:00<?, ?B/s]"
      ]
     },
     "metadata": {},
     "output_type": "display_data"
    },
    {
     "name": "stdout",
     "output_type": "stream",
     "text": [
      "Trained model loaded!\n"
     ]
    }
   ],
   "source": [
    "try:\n",
    "    state_dict = torch.load(\"/content/gdrive/My Drive/sentiments_chapo_titre_v7.pt\",map_location=torch.device('cpu'))\n",
    "    print(\"Loading trained model...\")\n",
    "    model = CamembertForSequenceClassification.from_pretrained(\n",
    "    'camembert-base',\n",
    "    state_dict=state_dict,num_labels=5)\n",
    "    print(\"Trained model loaded!\")\n",
    "except Exception as e:\n",
    "    print(\"Enable to load trained model.\")\n",
    "    print(e)\n",
    "    model = CamembertForSequenceClassification.from_pretrained(\n",
    "        'camembert-base',\n",
    "        num_labels = 5)\n",
    "    print(\"Baseline model loaded!\")"
   ]
  },
  {
   "cell_type": "code",
   "execution_count": 21,
   "metadata": {
    "id": "_7vUl8O2gAUM"
   },
   "outputs": [],
   "source": [
    "def predict(reviews, model=model):\n",
    "    with torch.no_grad():\n",
    "        model.eval()\n",
    "        input_ids, attention_mask = preprocess(reviews)\n",
    "        retour = model(input_ids, attention_mask=attention_mask)\n",
    "        print(retour)\n",
    "        return torch.argmax(retour[0], dim=1)"
   ]
  },
  {
   "cell_type": "code",
   "execution_count": 22,
   "metadata": {
    "id": "gjAyMcRW0bVW"
   },
   "outputs": [],
   "source": [
    "def evaluate(reviews, sentiments, metric='report'):\n",
    "    \n",
    "    predictions = predict(reviews)\n",
    "    if metric == 'report':\n",
    "        return metrics.classification_report(sentiments, predictions, zero_division=0)\n",
    "    elif metric == 'matrix':\n",
    "        return metrics.confusion_matrix(sentiments, predictions)"
   ]
  },
  {
   "cell_type": "code",
   "execution_count": 23,
   "metadata": {
    "id": "kEvYTvehrgkY"
   },
   "outputs": [],
   "source": [
    "def format_time(elapsed):\n",
    "    # Round to the nearest second.\n",
    "    elapsed_rounded = int(round((elapsed)))\n",
    "    \n",
    "    return str(datetime.timedelta(seconds=elapsed_rounded))"
   ]
  },
  {
   "cell_type": "code",
   "execution_count": 24,
   "metadata": {
    "id": "K0DoJqlPwbZS"
   },
   "outputs": [],
   "source": [
    "optimizer = AdamW(model.parameters(),\n",
    "                  lr = 2e-5, # Learning Rate - Default is 5e-5\n",
    "                  eps = 1e-8 # Adam Epsilon  - Default is 1e-8.\n",
    "                )"
   ]
  },
  {
   "cell_type": "code",
   "execution_count": 25,
   "metadata": {
    "id": "-7R0X8w2N9CD"
   },
   "outputs": [],
   "source": [
    "def flat_accuracy(preds, labels):\n",
    "    pred_flat = np.argmax(preds, axis=1).flatten()\n",
    "    labels_flat = labels.flatten()\n",
    "    return np.sum(pred_flat == labels_flat) / len(labels_flat)\n",
    "from sklearn.metrics import f1_score, matthews_corrcoef\n",
    "\n"
   ]
  },
  {
   "cell_type": "code",
   "execution_count": null,
   "metadata": {
    "colab": {
     "base_uri": "https://localhost:8080/"
    },
    "id": "ELf3ehrNxY3k",
    "outputId": "25d32736-6ab3-4905-932f-f1b251ddcee2"
   },
   "outputs": [
    {
     "name": "stdout",
     "output_type": "stream",
     "text": [
      "\n",
      "########## Epoch 0 / 10 ##########\n",
      "Training...\n"
     ]
    },
    {
     "name": "stderr",
     "output_type": "stream",
     "text": [
      "/usr/local/lib/python3.7/dist-packages/transformers/optimization.py:155: UserWarning: This overload of add_ is deprecated:\n",
      "\tadd_(Number alpha, Tensor other)\n",
      "Consider using one of the following signatures instead:\n",
      "\tadd_(Tensor other, *, Number alpha) (Triggered internally at  ../torch/csrc/utils/python_arg_parser.cpp:1050.)\n",
      "  exp_avg.mul_(beta1).add_(1.0 - beta1, grad)\n"
     ]
    },
    {
     "name": "stdout",
     "output_type": "stream",
     "text": [
      "  Batch 40  of  125    Elapsed: 0:00:50.\n",
      "  Batch 80  of  125    Elapsed: 0:01:41.\n",
      "  Batch 120  of  125    Elapsed: 0:02:31.\n",
      "\n",
      "  Average training loss: 1.28\n",
      "  Training epoch took: 157.71224808692932\n",
      "\n",
      "Running Validation...\n",
      "  Accuracy: 0.76\n",
      "  F1-score: 0.76\n",
      "  MCC     : 0.70\n",
      "  Validation Loss: 0.90\n",
      "  Validation took: 0:00:14\n",
      "\n",
      "########## Epoch 1 / 10 ##########\n",
      "Training...\n",
      "  Batch 40  of  125    Elapsed: 0:00:50.\n",
      "  Batch 80  of  125    Elapsed: 0:01:41.\n",
      "  Batch 120  of  125    Elapsed: 0:02:32.\n",
      "\n",
      "  Average training loss: 0.76\n",
      "  Training epoch took: 157.92617893218994\n",
      "\n",
      "Running Validation...\n",
      "  Accuracy: 0.79\n",
      "  F1-score: 0.79\n",
      "  MCC     : 0.74\n",
      "  Validation Loss: 0.68\n",
      "  Validation took: 0:00:14\n",
      "Validation loss improved, Model saved!\n",
      "\n",
      "########## Epoch 2 / 10 ##########\n",
      "Training...\n",
      "  Batch 40  of  125    Elapsed: 0:00:51.\n",
      "  Batch 80  of  125    Elapsed: 0:01:41.\n",
      "  Batch 120  of  125    Elapsed: 0:02:32.\n",
      "\n",
      "  Average training loss: 0.53\n",
      "  Training epoch took: 157.88277077674866\n",
      "\n",
      "Running Validation...\n",
      "  Accuracy: 0.79\n",
      "  F1-score: 0.79\n",
      "  MCC     : 0.74\n",
      "  Validation Loss: 0.63\n",
      "  Validation took: 0:00:14\n",
      "Validation loss improved, Model saved!\n",
      "\n",
      "########## Epoch 3 / 10 ##########\n",
      "Training...\n",
      "  Batch 40  of  125    Elapsed: 0:00:51.\n",
      "  Batch 80  of  125    Elapsed: 0:01:41.\n",
      "  Batch 120  of  125    Elapsed: 0:02:32.\n",
      "\n",
      "  Average training loss: 0.40\n",
      "  Training epoch took: 157.91784381866455\n",
      "\n",
      "Running Validation...\n",
      "  Accuracy: 0.82\n",
      "  F1-score: 0.82\n",
      "  MCC     : 0.77\n",
      "  Validation Loss: 0.60\n",
      "  Validation took: 0:00:14\n",
      "Validation loss improved, Model saved!\n",
      "\n",
      "########## Epoch 4 / 10 ##########\n",
      "Training...\n",
      "  Batch 40  of  125    Elapsed: 0:00:51.\n",
      "  Batch 80  of  125    Elapsed: 0:01:41.\n",
      "  Batch 120  of  125    Elapsed: 0:02:31.\n",
      "\n",
      "  Average training loss: 0.30\n",
      "  Training epoch took: 157.76014494895935\n",
      "\n",
      "Running Validation...\n",
      "  Accuracy: 0.81\n",
      "  F1-score: 0.81\n",
      "  MCC     : 0.76\n",
      "  Validation Loss: 0.61\n",
      "  Validation took: 0:00:14\n",
      "Validation loss not improved\n",
      "\n",
      "########## Epoch 5 / 10 ##########\n",
      "Training...\n",
      "  Batch 40  of  125    Elapsed: 0:00:50.\n",
      "  Batch 80  of  125    Elapsed: 0:01:41.\n",
      "  Batch 120  of  125    Elapsed: 0:02:31.\n",
      "\n",
      "  Average training loss: 0.24\n",
      "  Training epoch took: 157.68546271324158\n",
      "\n",
      "Running Validation...\n",
      "  Accuracy: 0.81\n",
      "  F1-score: 0.81\n",
      "  MCC     : 0.77\n",
      "  Validation Loss: 0.64\n",
      "  Validation took: 0:00:14\n",
      "Validation loss not improved\n",
      "\n",
      "########## Epoch 6 / 10 ##########\n",
      "Training...\n",
      "  Batch 40  of  125    Elapsed: 0:00:50.\n",
      "  Batch 80  of  125    Elapsed: 0:01:41.\n",
      "  Batch 120  of  125    Elapsed: 0:02:31.\n",
      "\n",
      "  Average training loss: 0.19\n",
      "  Training epoch took: 157.708758354187\n",
      "\n",
      "Running Validation...\n",
      "  Accuracy: 0.80\n",
      "  F1-score: 0.80\n",
      "  MCC     : 0.75\n",
      "  Validation Loss: 0.70\n",
      "  Validation took: 0:00:14\n",
      "Validation loss not improved\n",
      "\n",
      "########## Epoch 7 / 10 ##########\n",
      "Training...\n",
      "  Batch 40  of  125    Elapsed: 0:00:50.\n",
      "  Batch 80  of  125    Elapsed: 0:01:41.\n",
      "  Batch 120  of  125    Elapsed: 0:02:31.\n",
      "\n",
      "  Average training loss: 0.16\n",
      "  Training epoch took: 157.73937582969666\n",
      "\n",
      "Running Validation...\n",
      "  Accuracy: 0.82\n",
      "  F1-score: 0.81\n",
      "  MCC     : 0.77\n",
      "  Validation Loss: 0.68\n",
      "  Validation took: 0:00:14\n",
      "Validation loss not improved\n",
      "\n",
      "########## Epoch 8 / 10 ##########\n",
      "Training...\n",
      "  Batch 40  of  125    Elapsed: 0:00:50.\n",
      "  Batch 80  of  125    Elapsed: 0:01:41.\n",
      "  Batch 120  of  125    Elapsed: 0:02:32.\n",
      "\n",
      "  Average training loss: 0.14\n",
      "  Training epoch took: 157.9614269733429\n",
      "\n",
      "Running Validation...\n",
      "  Accuracy: 0.82\n",
      "  F1-score: 0.81\n",
      "  MCC     : 0.77\n",
      "  Validation Loss: 0.69\n",
      "  Validation took: 0:00:14\n",
      "Validation loss not improved\n",
      "\n",
      "########## Epoch 9 / 10 ##########\n",
      "Training...\n",
      "  Batch 40  of  125    Elapsed: 0:00:50.\n",
      "  Batch 80  of  125    Elapsed: 0:01:41.\n",
      "  Batch 120  of  125    Elapsed: 0:02:31.\n",
      "\n",
      "  Average training loss: 0.13\n",
      "  Training epoch took: 157.7899694442749\n",
      "\n",
      "Running Validation...\n",
      "  Accuracy: 0.82\n",
      "  F1-score: 0.81\n",
      "  MCC     : 0.77\n",
      "  Validation Loss: 0.70\n",
      "  Validation took: 0:00:14\n",
      "Validation loss not improved\n"
     ]
    }
   ],
   "source": [
    "# Training loop\n",
    "training_stats = []\n",
    "                                                                                \n",
    "# Measure the total training time for the whole run.\n",
    "total_t0 = time.time()\n",
    "\n",
    "epochs = 10\n",
    "\n",
    "# Total number of training steps is [number of batches] x [number of epochs]\n",
    "# (Note that this is not the same as the number of training samples)\n",
    "total_steps = len(train_dataloader) * epochs\n",
    "\n",
    "# Create the learning rate scheduler\n",
    "scheduler = get_linear_schedule_with_warmup(optimizer, \n",
    "                                            num_warmup_steps = 0, # Default value in run_glue.py\n",
    "                                            num_training_steps = total_steps)\n",
    "\n",
    "\n",
    "\n",
    "device = torch.device(\"cuda\")\n",
    "model.to(device)\n",
    "\n",
    "# This variable will evaluate the convergence on the training\n",
    "consecutive_epochs_with_no_improve = 0\n",
    "\n",
    "# Training\n",
    "for epoch in range(0, epochs):\n",
    "    \n",
    "    print(\"\")\n",
    "    print(f'########## Epoch {epoch} / {epochs} ##########')\n",
    "    print('Training...')\n",
    "\n",
    "    # Measure how long the training epoch takes.\n",
    "    t0 = time.time()\n",
    "\n",
    "    # Reset the total loss for this epoch.\n",
    "    total_train_loss = 0\n",
    "\n",
    "    # Put the model into training mode\n",
    "    model.train()\n",
    "\n",
    "    # For each batch of training data\n",
    "    for step, batch in enumerate(train_dataloader):\n",
    "\n",
    "        # Progress update every 40 batches.\n",
    "        if step % 40 == 0 and not step == 0:\n",
    "            # Calculate elapsed time in minutes.\n",
    "            elapsed = time.time() - t0\n",
    "            \n",
    "            # Report progress\n",
    "            print(f'  Batch {step}  of  {len(train_dataloader)}    Elapsed: {format_time(elapsed)}.')\n",
    "\n",
    "        # Unpack this training batch from our dataloader. \n",
    "        #\n",
    "        # As we unpack the batch, we'll also copy each tensor to the 'device' using the 'to' method\n",
    "        #\n",
    "        # 'batch' contains three pytorch tensors:\n",
    "        #   [0]: input ids \n",
    "        #   [1]: attention masks\n",
    "        #   [2]: skills \n",
    "        input_id = batch[0].to(device)\n",
    "        attention_mask = batch[1].to(device)\n",
    "        sentiment = batch[2].to(device)\n",
    "\n",
    "        # Clear any previously calculated gradients before performing a backward pass\n",
    "        model.zero_grad()        \n",
    "\n",
    "        # Perform a forward pass (evaluate the model on this training batch)\n",
    "        # the loss (because we provided skills) and the \"logits\"--the model\n",
    "        # outputs prior to activation\n",
    "        loss, logits = model(input_id, \n",
    "                             token_type_ids=None, \n",
    "                             attention_mask=attention_mask, \n",
    "                             labels=sentiment)\n",
    "\n",
    "        # Accumulate the training loss over all of the batches so that we can\n",
    "        # calculate the average loss at the end. 'loss' is a Tensor containing a\n",
    "        # single value; the '.item()' function just returns the Python value \n",
    "        # from the tensor\n",
    "        #loss = loss.mean()\n",
    "        total_train_loss += loss.item()\n",
    "\n",
    "        # Perform a backward pass to calculate the gradients\n",
    "        loss.backward()\n",
    "\n",
    "        # Clip the norm of the gradients to 1.0\n",
    "        # This is to help prevent the \"exploding gradients\" problem.\n",
    "        torch.nn.utils.clip_grad_norm_(model.parameters(), 1.0)\n",
    "\n",
    "        # Update parameters and take a step using the computed gradient\n",
    "        # The optimizer dictates the \"update rule\"--how the parameters are\n",
    "        # modified based on their gradients, the learning rate, etc.\n",
    "        optimizer.step()\n",
    "\n",
    "        # Update the learning rate.\n",
    "        scheduler.step()\n",
    "        \n",
    "        #save gpu memory\n",
    "        #torch.cuda.empty_cache()\n",
    "\n",
    "    # Calculate the average loss over all of the batches\n",
    "    avg_train_loss = total_train_loss / len(train_dataloader)   \n",
    "\n",
    "    \n",
    "    # Measure how long this epoch took\n",
    "    training_time = time.time() - t0\n",
    "\n",
    "    print(\"\")\n",
    "    print(\"  Average training loss: {0:.2f}\".format(avg_train_loss))\n",
    "    print(\"  Training epoch took: {:}\".format(training_time))\n",
    "    \n",
    "\n",
    "    if consecutive_epochs_with_no_improve == 2:\n",
    "        print(\"Stop training : The loss has not changed since 2 epochs!\")\n",
    "        break\n",
    "    \n",
    "\n",
    "\n",
    "    # ========================================\n",
    "    #               Validation\n",
    "    # ========================================\n",
    "    # After the completion of each training epoch, measure the model performance on the validation set.\n",
    "\n",
    "\n",
    "    print()\n",
    "    print(\"Running Validation...\")\n",
    "\n",
    "    t0 = time.time()\n",
    "\n",
    "    # put model in evaluation mode\n",
    "    model.eval()\n",
    "\n",
    "    total_eval_accuracy = 0\n",
    "    total_eval_loss = 0\n",
    "    val_logits, val_labels = [], []\n",
    "    for batch in validation_dataloader:\n",
    "\n",
    "        # put the input_ids, attentions_masks and labels validation batch to the GPU\n",
    "        input_ids = batch[0].to(device)\n",
    "        attention_mask = batch[1].to(device)\n",
    "        labels = batch[2].to(device)\n",
    "\n",
    "        # no need to construct the compute graph during the forward pass, since this is only needed for brackprop when training and not for validation\n",
    "        with torch.no_grad():\n",
    "            # forward pass for the validation batch\n",
    "            loss, logits= model(\n",
    "                input_ids=input_ids,\n",
    "                token_type_ids=None,\n",
    "                attention_mask=attention_mask,\n",
    "                labels=labels\n",
    "            )\n",
    "\n",
    "        # accumulate the validation loss over all the validation batches\n",
    "        total_eval_loss += loss.mean().item()\n",
    "\n",
    "        # put logits and labels to CPU to evaluate the accuracy\n",
    "        logits = logits.detach().cpu().numpy()\n",
    "        labels = labels.to(\"cpu\").numpy()\n",
    "\n",
    "        # store logits and true labels to compute F1-score and MCC\n",
    "        val_logits.append(logits)\n",
    "        val_labels.append(labels)\n",
    "\n",
    "        # accumulate the batch accuracy over all validation batches\n",
    "        total_eval_accuracy += flat_accuracy(logits, labels)\n",
    "\n",
    "    # average accuracy for the validation set\n",
    "    avg_val_accuracy = total_eval_accuracy / len(validation_dataloader)\n",
    "    print(\"  Accuracy: {0:.2f}\".format(avg_val_accuracy))\n",
    "\n",
    "    # compute F1-score and MCC for the validation set\n",
    "    flat_logits = np.concatenate(val_logits, axis=0)\n",
    "    flat_pred_labels = np.argmax(flat_logits, axis=1).flatten()\n",
    "    flat_true_labels = np.concatenate(val_labels, axis=0)\n",
    "\n",
    "    f1score = f1_score(flat_true_labels, flat_pred_labels, average=\"macro\")\n",
    "    print(\"  F1-score: {0:.2f}\".format(f1score))\n",
    "    mcc = matthews_corrcoef(flat_true_labels, flat_pred_labels)\n",
    "    print(\"  MCC     : {0:.2f}\".format(mcc))\n",
    "\n",
    "    # average the loss over all validation batches\n",
    "    avg_val_loss = total_eval_loss / len(validation_dataloader)\n",
    "\n",
    "\n",
    "    # compute the validation run time\n",
    "    validation_time = format_time(time.time() - t0)\n",
    "\n",
    "    print(\"  Validation Loss: {0:.2f}\".format(avg_val_loss))\n",
    "    print(\"  Validation took: {:}\".format(validation_time))\n",
    "\n",
    "\n",
    "    if epoch > 0:\n",
    "        if min([stat['Training Loss'] for stat in training_stats]) <= avg_train_loss:\n",
    "            # i.e. If there is not improvement\n",
    "            consecutive_epochs_with_no_improve += 1\n",
    "        else:\n",
    "            # If there is improvement\n",
    "            consecutive_epochs_with_no_improve = 0\n",
    "\n",
    "        if min([stat['Val. Loss'] for stat in training_stats]) <= avg_val_loss:\n",
    "            print(\"Validation loss not improved\")\n",
    "        #no validation improvement\n",
    "        else:\n",
    "            print(\"Validation loss improved, Model saved!\")\n",
    "            torch.save(model.state_dict(), \"/content/gdrive/My Drive/sentiments_chapo_titre_v7.pt\")\n",
    "    \n",
    "    # record all statistics for this epoch\n",
    "    training_stats.append(\n",
    "        {\n",
    "            \"epoch\": epoch + 1,\n",
    "            \"Training Loss\": avg_train_loss,\n",
    "            \"Val. Loss\": avg_val_loss,\n",
    "            \"Val. Accur.\": avg_val_accuracy,\n",
    "            \"Val. F1-score\": f1score,\n",
    "            \"Val. MCC\": mcc,\n",
    "            \"Training Time\": training_time,\n",
    "            \"Validation Time\": validation_time,\n",
    "        }\n",
    "    )\n",
    "\n",
    "\n",
    "# construct the epochs statistics dataframe\n",
    "df_stats = pd.DataFrame(data=training_stats)\n",
    "df_stats = df_stats.set_index(\"epoch\")\n",
    "df_stats = df_stats\n",
    "\n",
    "df_stats.to_csv('/content/gdrive/My Drive/df_stats_chapo_titre_v7.csv',sep=\";\")\n",
    "\n"
   ]
  },
  {
   "cell_type": "code",
   "execution_count": null,
   "metadata": {
    "colab": {
     "base_uri": "https://localhost:8080/",
     "height": 427
    },
    "id": "8QuBd3RpQ5Sk",
    "outputId": "725b0c0b-68a6-4d63-abcc-924f1ea47c4e"
   },
   "outputs": [
    {
     "data": {
      "image/png": "[encoded data removed]",
      "text/plain": [
       "<Figure size 864x432 with 1 Axes>"
      ]
     },
     "metadata": {},
     "output_type": "display_data"
    }
   ],
   "source": [
    "import seaborn as sns\n",
    "sns.set(style=\"darkgrid\")\n",
    "sns.set(font_scale=1.5)\n",
    "plt.rcParams[\"figure.figsize\"] = (12, 6)\n",
    "df_stats=pd.read_csv('/content/gdrive/My Drive/df_stats_chapo_titre_v7.csv',sep=\";\")\n",
    "\n",
    "plt.plot(df_stats[\"Training Loss\"], \"b-o\", label=\"Training\")\n",
    "plt.plot(df_stats[\"Val. Loss\"], \"g-o\", label=\"Validation\")\n",
    "plt.title(\"Training & Validation Loss\")\n",
    "plt.xlabel(\"Epoch\")\n",
    "plt.ylabel(\"Loss\")\n",
    "plt.legend()\n",
    "plt.xticks([i for i in range(1, epochs + 1)])\n",
    "plt.show()\n"
   ]
  },
  {
   "cell_type": "code",
   "execution_count": null,
   "metadata": {
    "colab": {
     "base_uri": "https://localhost:8080/",
     "height": 734
    },
    "id": "ZbcXrU66sICP",
    "outputId": "8324de01-da97-4931-d7f9-8a5e5393fe08"
   },
   "outputs": [
    {
     "name": "stdout",
     "output_type": "stream",
     "text": [
      "(tensor([[-0.7641,  3.0889, -0.6434, -0.6899, -0.7300],\n",
      "        [ 0.1914, -1.0361, -1.1361,  2.5567, -0.9318],\n",
      "        [-0.7138, -0.7130,  2.8959, -0.7236, -0.1934],\n",
      "        ...,\n",
      "        [-0.5552, -0.8071, -0.8663,  2.7594, -0.9090],\n",
      "        [-0.5503, -0.7243, -0.9357,  2.7320, -0.9058],\n",
      "        [ 2.9601, -0.8199, -0.6931, -0.8236, -0.4069]]),)\n",
      "(tensor([[-0.7641,  3.0889, -0.6434, -0.6899, -0.7300],\n",
      "        [ 0.1914, -1.0361, -1.1361,  2.5567, -0.9318],\n",
      "        [-0.7138, -0.7130,  2.8959, -0.7236, -0.1934],\n",
      "        ...,\n",
      "        [-0.5552, -0.8071, -0.8663,  2.7594, -0.9090],\n",
      "        [-0.5503, -0.7243, -0.9357,  2.7320, -0.9058],\n",
      "        [ 2.9601, -0.8199, -0.6931, -0.8236, -0.4069]]),)\n",
      "              precision    recall  f1-score   support\n",
      "\n",
      "           0       0.79      0.88      0.83       189\n",
      "           1       0.86      0.90      0.88       191\n",
      "           2       0.79      0.81      0.80       213\n",
      "           3       0.84      0.75      0.79       204\n",
      "           4       0.81      0.75      0.78       203\n",
      "\n",
      "    accuracy                           0.82      1000\n",
      "   macro avg       0.82      0.82      0.82      1000\n",
      "weighted avg       0.82      0.82      0.82      1000\n",
      "\n"
     ]
    },
    {
     "data": {
      "text/plain": [
       "<matplotlib.axes._subplots.AxesSubplot at 0x7ff2bf4cec10>"
      ]
     },
     "execution_count": 29,
     "metadata": {},
     "output_type": "execute_result"
    },
    {
     "data": {
      "image/png": "[encoded data removed]",
      "text/plain": [
       "<Figure size 432x288 with 2 Axes>"
      ]
     },
     "metadata": {
      "needs_background": "light"
     },
     "output_type": "display_data"
    }
   ],
   "source": [
    "# Evaluation with the confusion matrix\n",
    "import seaborn\n",
    "\n",
    "confusion_matrix = evaluate(reviews_validation, sentiments_validation , 'matrix')\n",
    "report = evaluate(reviews_validation, sentiments_validation , 'report')\n",
    "print(report)\n",
    "seaborn.heatmap(confusion_matrix ,annot=True, fmt=\"d\")\n",
    "\n",
    "\n"
   ]
  },
  {
   "cell_type": "code",
   "execution_count": 26,
   "metadata": {
    "colab": {
     "base_uri": "https://localhost:8080/"
    },
    "id": "uCRFLtf4Kkg2",
    "outputId": "3709841f-7688-4c37-dea9-6f3b0977d236"
   },
   "outputs": [
    {
     "name": "stdout",
     "output_type": "stream",
     "text": [
      "(tensor([[ 2.9063, -1.0906, -0.9520, -0.5690, -0.1826]]),)\n"
     ]
    },
    {
     "data": {
      "text/plain": [
       "tensor([0])"
      ]
     },
     "execution_count": 26,
     "metadata": {},
     "output_type": "execute_result"
    }
   ],
   "source": [
    "predict([\"Obama réunit les responsables des services de renseignement. Barack Obama réunira mardi 5 janvier les responsables des services de renseignement après avoir pointé les carences 'inacceptables' qui ont permis à Al-Qaida de commettre un attentat contre un avion de ligne américain le 25 décembre.\"])"
   ]
  },
  {
   "cell_type": "code",
   "execution_count": 27,
   "metadata": {
    "colab": {
     "base_uri": "https://localhost:8080/"
    },
    "id": "PptljEj1tbX3",
    "outputId": "f1269245-5f20-4201-b7ce-3d1915292add"
   },
   "outputs": [
    {
     "name": "stdout",
     "output_type": "stream",
     "text": [
      "(tensor([[-0.7240, -0.6852,  2.8429, -0.5736, -0.3194]]),)\n"
     ]
    },
    {
     "data": {
      "text/plain": [
       "tensor([2])"
      ]
     },
     "execution_count": 27,
     "metadata": {},
     "output_type": "execute_result"
    }
   ],
   "source": [
    "predict([\"Le CAC 40 dépasse les 4 000 points pour la première fois depuis 2008.Après avoir gagné plus de 22 % en 2009, la Bourse de Paris témoigne de sa confiance en ce début d'année.\"])"
   ]
  },
  {
   "cell_type": "code",
   "execution_count": 29,
   "metadata": {
    "colab": {
     "base_uri": "https://localhost:8080/"
    },
    "id": "NaJAt2XctbX3",
    "outputId": "c6ea832d-629a-4092-b5e6-03c7a34485a1"
   },
   "outputs": [
    {
     "name": "stdout",
     "output_type": "stream",
     "text": [
      "(tensor([[-0.9595, -0.9672,  2.7919, -0.7838,  0.4365]]),)\n"
     ]
    },
    {
     "data": {
      "text/plain": [
       "tensor([2])"
      ]
     },
     "execution_count": 29,
     "metadata": {},
     "output_type": "execute_result"
    }
   ],
   "source": [
    "predict([\"Emmanuel Macron choisit Laure de la Raudière pour diriger l’Arcep. Emmanuel Macron a désigné la députée de 55 ans pour diriger le « gendarme » français des télécoms. Un profil plus politique que celui de ses prédécesseurs.\"])"
   ]
  },
  {
   "cell_type": "code",
   "execution_count": 30,
   "metadata": {
    "colab": {
     "base_uri": "https://localhost:8080/"
    },
    "id": "tMkhpACetbX3",
    "outputId": "2d2fc1d6-561b-4b21-d26b-cc66f936ec03"
   },
   "outputs": [
    {
     "name": "stdout",
     "output_type": "stream",
     "text": [
      "(tensor([[-0.8118, -0.6589,  2.8837, -0.5554, -0.3120]]),)\n"
     ]
    },
    {
     "data": {
      "text/plain": [
       "tensor([2])"
      ]
     },
     "execution_count": 30,
     "metadata": {},
     "output_type": "execute_result"
    }
   ],
   "source": [
    "predict([\"Les salaires des patrons de la French Tech en forte hausse.Ils auraient progressé de 30% depuis 2019 en raison d'un effet de rattrapage selon une étude. Le salaire annuel brut médian des fondateurs s'élèverait 120.000 euros.\"])"
   ]
  },
  {
   "cell_type": "code",
   "execution_count": 31,
   "metadata": {
    "colab": {
     "base_uri": "https://localhost:8080/"
    },
    "id": "XH4lGvKGTw_S",
    "outputId": "8a9ceedd-384c-4173-a624-0e742202d558"
   },
   "outputs": [
    {
     "name": "stdout",
     "output_type": "stream",
     "text": [
      "(tensor([[-0.4324, -1.2224, -1.1098,  0.3800,  2.1396]]),)\n"
     ]
    },
    {
     "data": {
      "text/plain": [
       "tensor([4])"
      ]
     },
     "execution_count": 31,
     "metadata": {},
     "output_type": "execute_result"
    }
   ],
   "source": [
    "predict(['«Emmerder» les non-vaccinés : Emmanuel Macron dit «assumer totalement» ses propos controversés.Dans une interview au Parisien, le président de la République avait sévèrement chargé les cinq millions de Français qui refusaient de recevoir une injection contre le Covid-19. Des individus à qui il niait le statut de «citoyens».'])"
   ]
  },
  {
   "cell_type": "code",
   "execution_count": 33,
   "metadata": {
    "colab": {
     "base_uri": "https://localhost:8080/"
    },
    "id": "flAYj82gT8nM",
    "outputId": "f26c1432-38ff-422d-cfad-4e8ea3e3fbcc"
   },
   "outputs": [
    {
     "name": "stdout",
     "output_type": "stream",
     "text": [
      "(tensor([[-1.4138, -0.8704,  0.4389,  2.4906, -0.7928]]),)\n"
     ]
    },
    {
     "data": {
      "text/plain": [
       "tensor([3])"
      ]
     },
     "execution_count": 33,
     "metadata": {},
     "output_type": "execute_result"
    }
   ],
   "source": [
    "predict([\"Un outil pour mesurer l’impact environnemental du numérique. FIGARO DEMAIN - Voulue par l’Ademe, la base de données NegaOctet permettra aux entreprises d’évaluer leur bilan écologique.\"])"
   ]
  },
  {
   "cell_type": "code",
   "execution_count": null,
   "metadata": {
    "id": "qmGEcO7UUkS1"
   },
   "outputs": [],
   "source": []
  }
 ],
 "metadata": {
  "colab": {
   "collapsed_sections": [],
   "name": "text_classification_chapo__titre_v2.ipynb",
   "provenance": []
  },
  "environment": {
   "name": "pytorch-gpu.1-4.m56",
   "type": "gcloud",
   "uri": "gcr.io/deeplearning-platform-release/pytorch-gpu.1-4:m56"
  },
  "kernelspec": {
   "display_name": "Python 3",
   "language": "python",
   "name": "python3"
  },
  "language_info": {
   "codemirror_mode": {
    "name": "ipython",
    "version": 3
   },
   "file_extension": ".py",
   "mimetype": "text/x-python",
   "name": "python",
   "nbconvert_exporter": "python",
   "pygments_lexer": "ipython3",
   "version": "3.8.5"
  },
  "widgets": {
   "application/vnd.jupyter.widget-state+json": {
    "194f5aaa474841cfad56a8a16fc02eda": {
     "model_module": "@jupyter-widgets/controls",
     "model_module_version": "1.5.0",
     "model_name": "DescriptionStyleModel",
     "state": {
      "_model_module": "@jupyter-widgets/controls",
      "_model_module_version": "1.5.0",
      "_model_name": "DescriptionStyleModel",
      "_view_count": null,
      "_view_module": "@jupyter-widgets/base",
      "_view_module_version": "1.2.0",
      "_view_name": "StyleView",
      "description_width": ""
     }
    },
    "20a34b8d5a4d48b894e10d7681dc8d96": {
     "model_module": "@jupyter-widgets/base",
     "model_module_version": "1.2.0",
     "model_name": "LayoutModel",
     "state": {
      "_model_module": "@jupyter-widgets/base",
      "_model_module_version": "1.2.0",
      "_model_name": "LayoutModel",
      "_view_count": null,
      "_view_module": "@jupyter-widgets/base",
      "_view_module_version": "1.2.0",
      "_view_name": "LayoutView",
      "align_content": null,
      "align_items": null,
      "align_self": null,
      "border": null,
      "bottom": null,
      "display": null,
      "flex": null,
      "flex_flow": null,
      "grid_area": null,
      "grid_auto_columns": null,
      "grid_auto_flow": null,
      "grid_auto_rows": null,
      "grid_column": null,
      "grid_gap": null,
      "grid_row": null,
      "grid_template_areas": null,
      "grid_template_columns": null,
      "grid_template_rows": null,
      "height": null,
      "justify_content": null,
      "justify_items": null,
      "left": null,
      "margin": null,
      "max_height": null,
      "max_width": null,
      "min_height": null,
      "min_width": null,
      "object_fit": null,
      "object_position": null,
      "order": null,
      "overflow": null,
      "overflow_x": null,
      "overflow_y": null,
      "padding": null,
      "right": null,
      "top": null,
      "visibility": null,
      "width": null
     }
    },
    "221318935b1d497f96f0620c62527eb9": {
     "model_module": "@jupyter-widgets/controls",
     "model_module_version": "1.5.0",
     "model_name": "HTMLModel",
     "state": {
      "_dom_classes": [],
      "_model_module": "@jupyter-widgets/controls",
      "_model_module_version": "1.5.0",
      "_model_name": "HTMLModel",
      "_view_count": null,
      "_view_module": "@jupyter-widgets/controls",
      "_view_module_version": "1.5.0",
      "_view_name": "HTMLView",
      "description": "",
      "description_tooltip": null,
      "layout": "IPY_MODEL_9ecf6ff5ec164435b5d08c422a1ac629",
      "placeholder": "​",
      "style": "IPY_MODEL_6a16a20e505b44dd810e9d1e8dc09af7",
      "value": " 445M/445M [00:10&lt;00:00, 40.9MB/s]"
     }
    },
    "2646327943e94e748d33e85f7d612a33": {
     "model_module": "@jupyter-widgets/controls",
     "model_module_version": "1.5.0",
     "model_name": "DescriptionStyleModel",
     "state": {
      "_model_module": "@jupyter-widgets/controls",
      "_model_module_version": "1.5.0",
      "_model_name": "DescriptionStyleModel",
      "_view_count": null,
      "_view_module": "@jupyter-widgets/base",
      "_view_module_version": "1.2.0",
      "_view_name": "StyleView",
      "description_width": ""
     }
    },
    "39aed49975f948d895030e571df1ebfc": {
     "model_module": "@jupyter-widgets/controls",
     "model_module_version": "1.5.0",
     "model_name": "FloatProgressModel",
     "state": {
      "_dom_classes": [],
      "_model_module": "@jupyter-widgets/controls",
      "_model_module_version": "1.5.0",
      "_model_name": "FloatProgressModel",
      "_view_count": null,
      "_view_module": "@jupyter-widgets/controls",
      "_view_module_version": "1.5.0",
      "_view_name": "ProgressView",
      "bar_style": "success",
      "description": "",
      "description_tooltip": null,
      "layout": "IPY_MODEL_f6b7c838f7064079958c4f3297b1ea4e",
      "max": 810912,
      "min": 0,
      "orientation": "horizontal",
      "style": "IPY_MODEL_dcf498a43ae34a4ea0e0f5f559333905",
      "value": 810912
     }
    },
    "3d8632ced3344c60ab1763cf492e87ee": {
     "model_module": "@jupyter-widgets/base",
     "model_module_version": "1.2.0",
     "model_name": "LayoutModel",
     "state": {
      "_model_module": "@jupyter-widgets/base",
      "_model_module_version": "1.2.0",
      "_model_name": "LayoutModel",
      "_view_count": null,
      "_view_module": "@jupyter-widgets/base",
      "_view_module_version": "1.2.0",
      "_view_name": "LayoutView",
      "align_content": null,
      "align_items": null,
      "align_self": null,
      "border": null,
      "bottom": null,
      "display": null,
      "flex": null,
      "flex_flow": null,
      "grid_area": null,
      "grid_auto_columns": null,
      "grid_auto_flow": null,
      "grid_auto_rows": null,
      "grid_column": null,
      "grid_gap": null,
      "grid_row": null,
      "grid_template_areas": null,
      "grid_template_columns": null,
      "grid_template_rows": null,
      "height": null,
      "justify_content": null,
      "justify_items": null,
      "left": null,
      "margin": null,
      "max_height": null,
      "max_width": null,
      "min_height": null,
      "min_width": null,
      "object_fit": null,
      "object_position": null,
      "order": null,
      "overflow": null,
      "overflow_x": null,
      "overflow_y": null,
      "padding": null,
      "right": null,
      "top": null,
      "visibility": null,
      "width": null
     }
    },
    "499cb38f71dc4545874823ee55fae73d": {
     "model_module": "@jupyter-widgets/controls",
     "model_module_version": "1.5.0",
     "model_name": "HBoxModel",
     "state": {
      "_dom_classes": [],
      "_model_module": "@jupyter-widgets/controls",
      "_model_module_version": "1.5.0",
      "_model_name": "HBoxModel",
      "_view_count": null,
      "_view_module": "@jupyter-widgets/controls",
      "_view_module_version": "1.5.0",
      "_view_name": "HBoxView",
      "box_style": "",
      "children": [
       "IPY_MODEL_ec2a192081b44b569286e501712beb35",
       "IPY_MODEL_c441806aacc6440e83e64600f26e1c0c",
       "IPY_MODEL_74ac34e924fc4ff780bb58f8846451ad"
      ],
      "layout": "IPY_MODEL_e159d75d619444e994a42a73d09611d7"
     }
    },
    "4aa958928ebb40adb171d1b6b569e71d": {
     "model_module": "@jupyter-widgets/controls",
     "model_module_version": "1.5.0",
     "model_name": "DescriptionStyleModel",
     "state": {
      "_model_module": "@jupyter-widgets/controls",
      "_model_module_version": "1.5.0",
      "_model_name": "DescriptionStyleModel",
      "_view_count": null,
      "_view_module": "@jupyter-widgets/base",
      "_view_module_version": "1.2.0",
      "_view_name": "StyleView",
      "description_width": ""
     }
    },
    "5cb2ac8b1f5d4b7ea50773539db85938": {
     "model_module": "@jupyter-widgets/base",
     "model_module_version": "1.2.0",
     "model_name": "LayoutModel",
     "state": {
      "_model_module": "@jupyter-widgets/base",
      "_model_module_version": "1.2.0",
      "_model_name": "LayoutModel",
      "_view_count": null,
      "_view_module": "@jupyter-widgets/base",
      "_view_module_version": "1.2.0",
      "_view_name": "LayoutView",
      "align_content": null,
      "align_items": null,
      "align_self": null,
      "border": null,
      "bottom": null,
      "display": null,
      "flex": null,
      "flex_flow": null,
      "grid_area": null,
      "grid_auto_columns": null,
      "grid_auto_flow": null,
      "grid_auto_rows": null,
      "grid_column": null,
      "grid_gap": null,
      "grid_row": null,
      "grid_template_areas": null,
      "grid_template_columns": null,
      "grid_template_rows": null,
      "height": null,
      "justify_content": null,
      "justify_items": null,
      "left": null,
      "margin": null,
      "max_height": null,
      "max_width": null,
      "min_height": null,
      "min_width": null,
      "object_fit": null,
      "object_position": null,
      "order": null,
      "overflow": null,
      "overflow_x": null,
      "overflow_y": null,
      "padding": null,
      "right": null,
      "top": null,
      "visibility": null,
      "width": null
     }
    },
    "5efd54b725dc47399da88ad984d72a4c": {
     "model_module": "@jupyter-widgets/controls",
     "model_module_version": "1.5.0",
     "model_name": "ProgressStyleModel",
     "state": {
      "_model_module": "@jupyter-widgets/controls",
      "_model_module_version": "1.5.0",
      "_model_name": "ProgressStyleModel",
      "_view_count": null,
      "_view_module": "@jupyter-widgets/base",
      "_view_module_version": "1.2.0",
      "_view_name": "StyleView",
      "bar_color": null,
      "description_width": ""
     }
    },
    "662a101102e64459b4385704910f5d0f": {
     "model_module": "@jupyter-widgets/base",
     "model_module_version": "1.2.0",
     "model_name": "LayoutModel",
     "state": {
      "_model_module": "@jupyter-widgets/base",
      "_model_module_version": "1.2.0",
      "_model_name": "LayoutModel",
      "_view_count": null,
      "_view_module": "@jupyter-widgets/base",
      "_view_module_version": "1.2.0",
      "_view_name": "LayoutView",
      "align_content": null,
      "align_items": null,
      "align_self": null,
      "border": null,
      "bottom": null,
      "display": null,
      "flex": null,
      "flex_flow": null,
      "grid_area": null,
      "grid_auto_columns": null,
      "grid_auto_flow": null,
      "grid_auto_rows": null,
      "grid_column": null,
      "grid_gap": null,
      "grid_row": null,
      "grid_template_areas": null,
      "grid_template_columns": null,
      "grid_template_rows": null,
      "height": null,
      "justify_content": null,
      "justify_items": null,
      "left": null,
      "margin": null,
      "max_height": null,
      "max_width": null,
      "min_height": null,
      "min_width": null,
      "object_fit": null,
      "object_position": null,
      "order": null,
      "overflow": null,
      "overflow_x": null,
      "overflow_y": null,
      "padding": null,
      "right": null,
      "top": null,
      "visibility": null,
      "width": null
     }
    },
    "6a16a20e505b44dd810e9d1e8dc09af7": {
     "model_module": "@jupyter-widgets/controls",
     "model_module_version": "1.5.0",
     "model_name": "DescriptionStyleModel",
     "state": {
      "_model_module": "@jupyter-widgets/controls",
      "_model_module_version": "1.5.0",
      "_model_name": "DescriptionStyleModel",
      "_view_count": null,
      "_view_module": "@jupyter-widgets/base",
      "_view_module_version": "1.2.0",
      "_view_name": "StyleView",
      "description_width": ""
     }
    },
    "74ac34e924fc4ff780bb58f8846451ad": {
     "model_module": "@jupyter-widgets/controls",
     "model_module_version": "1.5.0",
     "model_name": "HTMLModel",
     "state": {
      "_dom_classes": [],
      "_model_module": "@jupyter-widgets/controls",
      "_model_module_version": "1.5.0",
      "_model_name": "HTMLModel",
      "_view_count": null,
      "_view_module": "@jupyter-widgets/controls",
      "_view_module_version": "1.5.0",
      "_view_name": "HTMLView",
      "description": "",
      "description_tooltip": null,
      "layout": "IPY_MODEL_20a34b8d5a4d48b894e10d7681dc8d96",
      "placeholder": "​",
      "style": "IPY_MODEL_dd2e7fa9b83a4549a7b8e3b878385781",
      "value": " 508/508 [00:00&lt;00:00, 13.6kB/s]"
     }
    },
    "7711d6cef60344a08bda9ecbab36b5cb": {
     "model_module": "@jupyter-widgets/controls",
     "model_module_version": "1.5.0",
     "model_name": "FloatProgressModel",
     "state": {
      "_dom_classes": [],
      "_model_module": "@jupyter-widgets/controls",
      "_model_module_version": "1.5.0",
      "_model_name": "FloatProgressModel",
      "_view_count": null,
      "_view_module": "@jupyter-widgets/controls",
      "_view_module_version": "1.5.0",
      "_view_name": "ProgressView",
      "bar_style": "success",
      "description": "",
      "description_tooltip": null,
      "layout": "IPY_MODEL_7b824393131e4f3d918be0fccddfb825",
      "max": 445032417,
      "min": 0,
      "orientation": "horizontal",
      "style": "IPY_MODEL_5efd54b725dc47399da88ad984d72a4c",
      "value": 445032417
     }
    },
    "7b824393131e4f3d918be0fccddfb825": {
     "model_module": "@jupyter-widgets/base",
     "model_module_version": "1.2.0",
     "model_name": "LayoutModel",
     "state": {
      "_model_module": "@jupyter-widgets/base",
      "_model_module_version": "1.2.0",
      "_model_name": "LayoutModel",
      "_view_count": null,
      "_view_module": "@jupyter-widgets/base",
      "_view_module_version": "1.2.0",
      "_view_name": "LayoutView",
      "align_content": null,
      "align_items": null,
      "align_self": null,
      "border": null,
      "bottom": null,
      "display": null,
      "flex": null,
      "flex_flow": null,
      "grid_area": null,
      "grid_auto_columns": null,
      "grid_auto_flow": null,
      "grid_auto_rows": null,
      "grid_column": null,
      "grid_gap": null,
      "grid_row": null,
      "grid_template_areas": null,
      "grid_template_columns": null,
      "grid_template_rows": null,
      "height": null,
      "justify_content": null,
      "justify_items": null,
      "left": null,
      "margin": null,
      "max_height": null,
      "max_width": null,
      "min_height": null,
      "min_width": null,
      "object_fit": null,
      "object_position": null,
      "order": null,
      "overflow": null,
      "overflow_x": null,
      "overflow_y": null,
      "padding": null,
      "right": null,
      "top": null,
      "visibility": null,
      "width": null
     }
    },
    "7d98ca125f3349beadeb0f836f23f47d": {
     "model_module": "@jupyter-widgets/controls",
     "model_module_version": "1.5.0",
     "model_name": "DescriptionStyleModel",
     "state": {
      "_model_module": "@jupyter-widgets/controls",
      "_model_module_version": "1.5.0",
      "_model_name": "DescriptionStyleModel",
      "_view_count": null,
      "_view_module": "@jupyter-widgets/base",
      "_view_module_version": "1.2.0",
      "_view_name": "StyleView",
      "description_width": ""
     }
    },
    "88e4f232af9b4b7db613ede87dd30e1e": {
     "model_module": "@jupyter-widgets/controls",
     "model_module_version": "1.5.0",
     "model_name": "HTMLModel",
     "state": {
      "_dom_classes": [],
      "_model_module": "@jupyter-widgets/controls",
      "_model_module_version": "1.5.0",
      "_model_name": "HTMLModel",
      "_view_count": null,
      "_view_module": "@jupyter-widgets/controls",
      "_view_module_version": "1.5.0",
      "_view_name": "HTMLView",
      "description": "",
      "description_tooltip": null,
      "layout": "IPY_MODEL_fea1f94b51cb48449f6efef9f34d5886",
      "placeholder": "​",
      "style": "IPY_MODEL_7d98ca125f3349beadeb0f836f23f47d",
      "value": "Downloading: 100%"
     }
    },
    "8ecb2783a4724e9ca335db92d9990a37": {
     "model_module": "@jupyter-widgets/controls",
     "model_module_version": "1.5.0",
     "model_name": "HTMLModel",
     "state": {
      "_dom_classes": [],
      "_model_module": "@jupyter-widgets/controls",
      "_model_module_version": "1.5.0",
      "_model_name": "HTMLModel",
      "_view_count": null,
      "_view_module": "@jupyter-widgets/controls",
      "_view_module_version": "1.5.0",
      "_view_name": "HTMLView",
      "description": "",
      "description_tooltip": null,
      "layout": "IPY_MODEL_b19286ccca9b45c696c6cfd84d7ff64b",
      "placeholder": "​",
      "style": "IPY_MODEL_4aa958928ebb40adb171d1b6b569e71d",
      "value": " 811k/811k [00:00&lt;00:00, 1.34MB/s]"
     }
    },
    "93941205452b408e8fb03282d99cc4e9": {
     "model_module": "@jupyter-widgets/base",
     "model_module_version": "1.2.0",
     "model_name": "LayoutModel",
     "state": {
      "_model_module": "@jupyter-widgets/base",
      "_model_module_version": "1.2.0",
      "_model_name": "LayoutModel",
      "_view_count": null,
      "_view_module": "@jupyter-widgets/base",
      "_view_module_version": "1.2.0",
      "_view_name": "LayoutView",
      "align_content": null,
      "align_items": null,
      "align_self": null,
      "border": null,
      "bottom": null,
      "display": null,
      "flex": null,
      "flex_flow": null,
      "grid_area": null,
      "grid_auto_columns": null,
      "grid_auto_flow": null,
      "grid_auto_rows": null,
      "grid_column": null,
      "grid_gap": null,
      "grid_row": null,
      "grid_template_areas": null,
      "grid_template_columns": null,
      "grid_template_rows": null,
      "height": null,
      "justify_content": null,
      "justify_items": null,
      "left": null,
      "margin": null,
      "max_height": null,
      "max_width": null,
      "min_height": null,
      "min_width": null,
      "object_fit": null,
      "object_position": null,
      "order": null,
      "overflow": null,
      "overflow_x": null,
      "overflow_y": null,
      "padding": null,
      "right": null,
      "top": null,
      "visibility": null,
      "width": null
     }
    },
    "9ecf6ff5ec164435b5d08c422a1ac629": {
     "model_module": "@jupyter-widgets/base",
     "model_module_version": "1.2.0",
     "model_name": "LayoutModel",
     "state": {
      "_model_module": "@jupyter-widgets/base",
      "_model_module_version": "1.2.0",
      "_model_name": "LayoutModel",
      "_view_count": null,
      "_view_module": "@jupyter-widgets/base",
      "_view_module_version": "1.2.0",
      "_view_name": "LayoutView",
      "align_content": null,
      "align_items": null,
      "align_self": null,
      "border": null,
      "bottom": null,
      "display": null,
      "flex": null,
      "flex_flow": null,
      "grid_area": null,
      "grid_auto_columns": null,
      "grid_auto_flow": null,
      "grid_auto_rows": null,
      "grid_column": null,
      "grid_gap": null,
      "grid_row": null,
      "grid_template_areas": null,
      "grid_template_columns": null,
      "grid_template_rows": null,
      "height": null,
      "justify_content": null,
      "justify_items": null,
      "left": null,
      "margin": null,
      "max_height": null,
      "max_width": null,
      "min_height": null,
      "min_width": null,
      "object_fit": null,
      "object_position": null,
      "order": null,
      "overflow": null,
      "overflow_x": null,
      "overflow_y": null,
      "padding": null,
      "right": null,
      "top": null,
      "visibility": null,
      "width": null
     }
    },
    "b19286ccca9b45c696c6cfd84d7ff64b": {
     "model_module": "@jupyter-widgets/base",
     "model_module_version": "1.2.0",
     "model_name": "LayoutModel",
     "state": {
      "_model_module": "@jupyter-widgets/base",
      "_model_module_version": "1.2.0",
      "_model_name": "LayoutModel",
      "_view_count": null,
      "_view_module": "@jupyter-widgets/base",
      "_view_module_version": "1.2.0",
      "_view_name": "LayoutView",
      "align_content": null,
      "align_items": null,
      "align_self": null,
      "border": null,
      "bottom": null,
      "display": null,
      "flex": null,
      "flex_flow": null,
      "grid_area": null,
      "grid_auto_columns": null,
      "grid_auto_flow": null,
      "grid_auto_rows": null,
      "grid_column": null,
      "grid_gap": null,
      "grid_row": null,
      "grid_template_areas": null,
      "grid_template_columns": null,
      "grid_template_rows": null,
      "height": null,
      "justify_content": null,
      "justify_items": null,
      "left": null,
      "margin": null,
      "max_height": null,
      "max_width": null,
      "min_height": null,
      "min_width": null,
      "object_fit": null,
      "object_position": null,
      "order": null,
      "overflow": null,
      "overflow_x": null,
      "overflow_y": null,
      "padding": null,
      "right": null,
      "top": null,
      "visibility": null,
      "width": null
     }
    },
    "b3a01379ab90404d92b264adee1b5906": {
     "model_module": "@jupyter-widgets/controls",
     "model_module_version": "1.5.0",
     "model_name": "ProgressStyleModel",
     "state": {
      "_model_module": "@jupyter-widgets/controls",
      "_model_module_version": "1.5.0",
      "_model_name": "ProgressStyleModel",
      "_view_count": null,
      "_view_module": "@jupyter-widgets/base",
      "_view_module_version": "1.2.0",
      "_view_name": "StyleView",
      "bar_color": null,
      "description_width": ""
     }
    },
    "c441806aacc6440e83e64600f26e1c0c": {
     "model_module": "@jupyter-widgets/controls",
     "model_module_version": "1.5.0",
     "model_name": "FloatProgressModel",
     "state": {
      "_dom_classes": [],
      "_model_module": "@jupyter-widgets/controls",
      "_model_module_version": "1.5.0",
      "_model_name": "FloatProgressModel",
      "_view_count": null,
      "_view_module": "@jupyter-widgets/controls",
      "_view_module_version": "1.5.0",
      "_view_name": "ProgressView",
      "bar_style": "success",
      "description": "",
      "description_tooltip": null,
      "layout": "IPY_MODEL_662a101102e64459b4385704910f5d0f",
      "max": 508,
      "min": 0,
      "orientation": "horizontal",
      "style": "IPY_MODEL_b3a01379ab90404d92b264adee1b5906",
      "value": 508
     }
    },
    "c4922cd6fb6b48ef8e4c5315caa80f14": {
     "model_module": "@jupyter-widgets/base",
     "model_module_version": "1.2.0",
     "model_name": "LayoutModel",
     "state": {
      "_model_module": "@jupyter-widgets/base",
      "_model_module_version": "1.2.0",
      "_model_name": "LayoutModel",
      "_view_count": null,
      "_view_module": "@jupyter-widgets/base",
      "_view_module_version": "1.2.0",
      "_view_name": "LayoutView",
      "align_content": null,
      "align_items": null,
      "align_self": null,
      "border": null,
      "bottom": null,
      "display": null,
      "flex": null,
      "flex_flow": null,
      "grid_area": null,
      "grid_auto_columns": null,
      "grid_auto_flow": null,
      "grid_auto_rows": null,
      "grid_column": null,
      "grid_gap": null,
      "grid_row": null,
      "grid_template_areas": null,
      "grid_template_columns": null,
      "grid_template_rows": null,
      "height": null,
      "justify_content": null,
      "justify_items": null,
      "left": null,
      "margin": null,
      "max_height": null,
      "max_width": null,
      "min_height": null,
      "min_width": null,
      "object_fit": null,
      "object_position": null,
      "order": null,
      "overflow": null,
      "overflow_x": null,
      "overflow_y": null,
      "padding": null,
      "right": null,
      "top": null,
      "visibility": null,
      "width": null
     }
    },
    "c4a5b5fcc63249a1b19aa1b75926d394": {
     "model_module": "@jupyter-widgets/controls",
     "model_module_version": "1.5.0",
     "model_name": "HBoxModel",
     "state": {
      "_dom_classes": [],
      "_model_module": "@jupyter-widgets/controls",
      "_model_module_version": "1.5.0",
      "_model_name": "HBoxModel",
      "_view_count": null,
      "_view_module": "@jupyter-widgets/controls",
      "_view_module_version": "1.5.0",
      "_view_name": "HBoxView",
      "box_style": "",
      "children": [
       "IPY_MODEL_88e4f232af9b4b7db613ede87dd30e1e",
       "IPY_MODEL_39aed49975f948d895030e571df1ebfc",
       "IPY_MODEL_8ecb2783a4724e9ca335db92d9990a37"
      ],
      "layout": "IPY_MODEL_c4922cd6fb6b48ef8e4c5315caa80f14"
     }
    },
    "dccb4ac5b84b45d1a2ff2bd857f2375b": {
     "model_module": "@jupyter-widgets/controls",
     "model_module_version": "1.5.0",
     "model_name": "HTMLModel",
     "state": {
      "_dom_classes": [],
      "_model_module": "@jupyter-widgets/controls",
      "_model_module_version": "1.5.0",
      "_model_name": "HTMLModel",
      "_view_count": null,
      "_view_module": "@jupyter-widgets/controls",
      "_view_module_version": "1.5.0",
      "_view_name": "HTMLView",
      "description": "",
      "description_tooltip": null,
      "layout": "IPY_MODEL_5cb2ac8b1f5d4b7ea50773539db85938",
      "placeholder": "​",
      "style": "IPY_MODEL_194f5aaa474841cfad56a8a16fc02eda",
      "value": "Downloading: 100%"
     }
    },
    "dcf498a43ae34a4ea0e0f5f559333905": {
     "model_module": "@jupyter-widgets/controls",
     "model_module_version": "1.5.0",
     "model_name": "ProgressStyleModel",
     "state": {
      "_model_module": "@jupyter-widgets/controls",
      "_model_module_version": "1.5.0",
      "_model_name": "ProgressStyleModel",
      "_view_count": null,
      "_view_module": "@jupyter-widgets/base",
      "_view_module_version": "1.2.0",
      "_view_name": "StyleView",
      "bar_color": null,
      "description_width": ""
     }
    },
    "dd2e7fa9b83a4549a7b8e3b878385781": {
     "model_module": "@jupyter-widgets/controls",
     "model_module_version": "1.5.0",
     "model_name": "DescriptionStyleModel",
     "state": {
      "_model_module": "@jupyter-widgets/controls",
      "_model_module_version": "1.5.0",
      "_model_name": "DescriptionStyleModel",
      "_view_count": null,
      "_view_module": "@jupyter-widgets/base",
      "_view_module_version": "1.2.0",
      "_view_name": "StyleView",
      "description_width": ""
     }
    },
    "e159d75d619444e994a42a73d09611d7": {
     "model_module": "@jupyter-widgets/base",
     "model_module_version": "1.2.0",
     "model_name": "LayoutModel",
     "state": {
      "_model_module": "@jupyter-widgets/base",
      "_model_module_version": "1.2.0",
      "_model_name": "LayoutModel",
      "_view_count": null,
      "_view_module": "@jupyter-widgets/base",
      "_view_module_version": "1.2.0",
      "_view_name": "LayoutView",
      "align_content": null,
      "align_items": null,
      "align_self": null,
      "border": null,
      "bottom": null,
      "display": null,
      "flex": null,
      "flex_flow": null,
      "grid_area": null,
      "grid_auto_columns": null,
      "grid_auto_flow": null,
      "grid_auto_rows": null,
      "grid_column": null,
      "grid_gap": null,
      "grid_row": null,
      "grid_template_areas": null,
      "grid_template_columns": null,
      "grid_template_rows": null,
      "height": null,
      "justify_content": null,
      "justify_items": null,
      "left": null,
      "margin": null,
      "max_height": null,
      "max_width": null,
      "min_height": null,
      "min_width": null,
      "object_fit": null,
      "object_position": null,
      "order": null,
      "overflow": null,
      "overflow_x": null,
      "overflow_y": null,
      "padding": null,
      "right": null,
      "top": null,
      "visibility": null,
      "width": null
     }
    },
    "e347ed58c91a49e2abc77ea151efd2f3": {
     "model_module": "@jupyter-widgets/controls",
     "model_module_version": "1.5.0",
     "model_name": "HBoxModel",
     "state": {
      "_dom_classes": [],
      "_model_module": "@jupyter-widgets/controls",
      "_model_module_version": "1.5.0",
      "_model_name": "HBoxModel",
      "_view_count": null,
      "_view_module": "@jupyter-widgets/controls",
      "_view_module_version": "1.5.0",
      "_view_name": "HBoxView",
      "box_style": "",
      "children": [
       "IPY_MODEL_dccb4ac5b84b45d1a2ff2bd857f2375b",
       "IPY_MODEL_7711d6cef60344a08bda9ecbab36b5cb",
       "IPY_MODEL_221318935b1d497f96f0620c62527eb9"
      ],
      "layout": "IPY_MODEL_93941205452b408e8fb03282d99cc4e9"
     }
    },
    "ec2a192081b44b569286e501712beb35": {
     "model_module": "@jupyter-widgets/controls",
     "model_module_version": "1.5.0",
     "model_name": "HTMLModel",
     "state": {
      "_dom_classes": [],
      "_model_module": "@jupyter-widgets/controls",
      "_model_module_version": "1.5.0",
      "_model_name": "HTMLModel",
      "_view_count": null,
      "_view_module": "@jupyter-widgets/controls",
      "_view_module_version": "1.5.0",
      "_view_name": "HTMLView",
      "description": "",
      "description_tooltip": null,
      "layout": "IPY_MODEL_3d8632ced3344c60ab1763cf492e87ee",
      "placeholder": "​",
      "style": "IPY_MODEL_2646327943e94e748d33e85f7d612a33",
      "value": "Downloading: 100%"
     }
    },
    "f6b7c838f7064079958c4f3297b1ea4e": {
     "model_module": "@jupyter-widgets/base",
     "model_module_version": "1.2.0",
     "model_name": "LayoutModel",
     "state": {
      "_model_module": "@jupyter-widgets/base",
      "_model_module_version": "1.2.0",
      "_model_name": "LayoutModel",
      "_view_count": null,
      "_view_module": "@jupyter-widgets/base",
      "_view_module_version": "1.2.0",
      "_view_name": "LayoutView",
      "align_content": null,
      "align_items": null,
      "align_self": null,
      "border": null,
      "bottom": null,
      "display": null,
      "flex": null,
      "flex_flow": null,
      "grid_area": null,
      "grid_auto_columns": null,
      "grid_auto_flow": null,
      "grid_auto_rows": null,
      "grid_column": null,
      "grid_gap": null,
      "grid_row": null,
      "grid_template_areas": null,
      "grid_template_columns": null,
      "grid_template_rows": null,
      "height": null,
      "justify_content": null,
      "justify_items": null,
      "left": null,
      "margin": null,
      "max_height": null,
      "max_width": null,
      "min_height": null,
      "min_width": null,
      "object_fit": null,
      "object_position": null,
      "order": null,
      "overflow": null,
      "overflow_x": null,
      "overflow_y": null,
      "padding": null,
      "right": null,
      "top": null,
      "visibility": null,
      "width": null
     }
    },
    "fea1f94b51cb48449f6efef9f34d5886": {
     "model_module": "@jupyter-widgets/base",
     "model_module_version": "1.2.0",
     "model_name": "LayoutModel",
     "state": {
      "_model_module": "@jupyter-widgets/base",
      "_model_module_version": "1.2.0",
      "_model_name": "LayoutModel",
      "_view_count": null,
      "_view_module": "@jupyter-widgets/base",
      "_view_module_version": "1.2.0",
      "_view_name": "LayoutView",
      "align_content": null,
      "align_items": null,
      "align_self": null,
      "border": null,
      "bottom": null,
      "display": null,
      "flex": null,
      "flex_flow": null,
      "grid_area": null,
      "grid_auto_columns": null,
      "grid_auto_flow": null,
      "grid_auto_rows": null,
      "grid_column": null,
      "grid_gap": null,
      "grid_row": null,
      "grid_template_areas": null,
      "grid_template_columns": null,
      "grid_template_rows": null,
      "height": null,
      "justify_content": null,
      "justify_items": null,
      "left": null,
      "margin": null,
      "max_height": null,
      "max_width": null,
      "min_height": null,
      "min_width": null,
      "object_fit": null,
      "object_position": null,
      "order": null,
      "overflow": null,
      "overflow_x": null,
      "overflow_y": null,
      "padding": null,
      "right": null,
      "top": null,
      "visibility": null,
      "width": null
     }
    }
   }
  }
 },
 "nbformat": 4,
 "nbformat_minor": 1
}
